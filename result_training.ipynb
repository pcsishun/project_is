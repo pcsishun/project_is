{
  "nbformat": 4,
  "nbformat_minor": 0,
  "metadata": {
    "colab": {
      "name": "Project_IS.ipynb",
      "provenance": [],
      "collapsed_sections": [],
      "toc_visible": true
    },
    "kernelspec": {
      "name": "python3",
      "display_name": "Python 3.8.5 64-bit ('base': conda)"
    },
    "language_info": {
      "name": "python",
      "version": "3.8.5"
    },
    "accelerator": "GPU",
    "interpreter": {
      "hash": "76b8abbbb9b6c38b61575df51bddd0b5ac2d2320e1b6c418d8ca44efd0f1bff9"
    }
  },
  "cells": [
    {
      "cell_type": "code",
      "metadata": {
        "id": "hKoGh4DXrVxq"
      },
      "source": [
        "import pandas as pd \n",
        "import numpy as np\n",
        "import seaborn as sns \n",
        "import matplotlib.pyplot as plt\n",
        "\n",
        "from sklearn.model_selection import train_test_split\n",
        "from sklearn import tree\n",
        "from sklearn.neighbors import KNeighborsClassifier\n",
        "from sklearn.neural_network import MLPClassifier\n",
        "from sklearn.model_selection import GridSearchCV\n",
        "\n",
        "from sklearn.preprocessing import MinMaxScaler\n",
        "from sklearn.metrics import classification_report\n",
        " \n"
      ],
      "execution_count": 36,
      "outputs": []
    },
    {
      "cell_type": "code",
      "metadata": {
        "colab": {
          "base_uri": "https://localhost:8080/",
          "height": 419
        },
        "id": "8q2egK18rfBQ",
        "outputId": "2e842109-9a6b-4385-a389-9abe867fa97f"
      },
      "source": [
        "# df = pd.read_csv('TrainingData.csv')\n",
        "df = pd.read_csv('./trainingData/TrainData_withoutWord.csv')\n",
        "# df = df.drop(columns=['word'])\n",
        "df = pd.get_dummies(data= df, columns=['Bank'])\n",
        "range_width = df['left'] + df['width']\n",
        "range_height = df['top'] + df['height']\n",
        "df['range_width'] = range_width \n",
        "df['range_height'] = range_height\n",
        "groupLabel = {'Account':'red', 'Amount':'blue', 'Name':'orange', 'NotUse':'gray', 'RefCode':'brown', 'Timing':'pink'}\n",
        "df"
      ],
      "execution_count": 37,
      "outputs": [
        {
          "output_type": "execute_result",
          "data": {
            "text/plain": [
              "      level  page_num  block_num  par_num  line_num  left   top  width  \\\n",
              "0         4         1          1        1         1    41    11    645   \n",
              "1         4         1          1        1         1    42    11    608   \n",
              "2         4         1          1        1         1    42    15    201   \n",
              "3         4         1          1        1         1    78    28    800   \n",
              "4         4         1          1        1         1    78    28    800   \n",
              "...     ...       ...        ...      ...       ...   ...   ...    ...   \n",
              "3378      4         1         13        1         1   313   844    287   \n",
              "3379      4         1         13        1         1   313   844    287   \n",
              "3380      4         1         13        1         1   313   844    288   \n",
              "3381      4         1         13        1         1   313  1071    286   \n",
              "3382      4         1         14        1         1   313  1071    287   \n",
              "\n",
              "      height  CEng  Ctha  CNum  CSym    label  Bank_Kbank  Bank_krungsri  \\\n",
              "0         71     0    12     1     5   NotUse           1              0   \n",
              "1         70     0    11     1     4   NotUse           1              0   \n",
              "2         35     0    11     0     3   NotUse           1              0   \n",
              "3        118     0    11     0     6   NotUse           1              0   \n",
              "4        118     2    11     0     4   NotUse           1              0   \n",
              "...      ...   ...   ...   ...   ...      ...         ...            ...   \n",
              "3378      26     0     4     9     0  RefCode           0              1   \n",
              "3379      26     4     0     9     0  RefCode           0              1   \n",
              "3380      26     4     0     9     0  RefCode           0              1   \n",
              "3381      26     4     0     9     0  RefCode           0              1   \n",
              "3382      26     4     0     9     0  RefCode           0              1   \n",
              "\n",
              "      range_width  range_height  \n",
              "0             686            82  \n",
              "1             650            81  \n",
              "2             243            50  \n",
              "3             878           146  \n",
              "4             878           146  \n",
              "...           ...           ...  \n",
              "3378          600           870  \n",
              "3379          600           870  \n",
              "3380          601           870  \n",
              "3381          599          1097  \n",
              "3382          600          1097  \n",
              "\n",
              "[3383 rows x 18 columns]"
            ],
            "text/html": "<div>\n<style scoped>\n    .dataframe tbody tr th:only-of-type {\n        vertical-align: middle;\n    }\n\n    .dataframe tbody tr th {\n        vertical-align: top;\n    }\n\n    .dataframe thead th {\n        text-align: right;\n    }\n</style>\n<table border=\"1\" class=\"dataframe\">\n  <thead>\n    <tr style=\"text-align: right;\">\n      <th></th>\n      <th>level</th>\n      <th>page_num</th>\n      <th>block_num</th>\n      <th>par_num</th>\n      <th>line_num</th>\n      <th>left</th>\n      <th>top</th>\n      <th>width</th>\n      <th>height</th>\n      <th>CEng</th>\n      <th>Ctha</th>\n      <th>CNum</th>\n      <th>CSym</th>\n      <th>label</th>\n      <th>Bank_Kbank</th>\n      <th>Bank_krungsri</th>\n      <th>range_width</th>\n      <th>range_height</th>\n    </tr>\n  </thead>\n  <tbody>\n    <tr>\n      <th>0</th>\n      <td>4</td>\n      <td>1</td>\n      <td>1</td>\n      <td>1</td>\n      <td>1</td>\n      <td>41</td>\n      <td>11</td>\n      <td>645</td>\n      <td>71</td>\n      <td>0</td>\n      <td>12</td>\n      <td>1</td>\n      <td>5</td>\n      <td>NotUse</td>\n      <td>1</td>\n      <td>0</td>\n      <td>686</td>\n      <td>82</td>\n    </tr>\n    <tr>\n      <th>1</th>\n      <td>4</td>\n      <td>1</td>\n      <td>1</td>\n      <td>1</td>\n      <td>1</td>\n      <td>42</td>\n      <td>11</td>\n      <td>608</td>\n      <td>70</td>\n      <td>0</td>\n      <td>11</td>\n      <td>1</td>\n      <td>4</td>\n      <td>NotUse</td>\n      <td>1</td>\n      <td>0</td>\n      <td>650</td>\n      <td>81</td>\n    </tr>\n    <tr>\n      <th>2</th>\n      <td>4</td>\n      <td>1</td>\n      <td>1</td>\n      <td>1</td>\n      <td>1</td>\n      <td>42</td>\n      <td>15</td>\n      <td>201</td>\n      <td>35</td>\n      <td>0</td>\n      <td>11</td>\n      <td>0</td>\n      <td>3</td>\n      <td>NotUse</td>\n      <td>1</td>\n      <td>0</td>\n      <td>243</td>\n      <td>50</td>\n    </tr>\n    <tr>\n      <th>3</th>\n      <td>4</td>\n      <td>1</td>\n      <td>1</td>\n      <td>1</td>\n      <td>1</td>\n      <td>78</td>\n      <td>28</td>\n      <td>800</td>\n      <td>118</td>\n      <td>0</td>\n      <td>11</td>\n      <td>0</td>\n      <td>6</td>\n      <td>NotUse</td>\n      <td>1</td>\n      <td>0</td>\n      <td>878</td>\n      <td>146</td>\n    </tr>\n    <tr>\n      <th>4</th>\n      <td>4</td>\n      <td>1</td>\n      <td>1</td>\n      <td>1</td>\n      <td>1</td>\n      <td>78</td>\n      <td>28</td>\n      <td>800</td>\n      <td>118</td>\n      <td>2</td>\n      <td>11</td>\n      <td>0</td>\n      <td>4</td>\n      <td>NotUse</td>\n      <td>1</td>\n      <td>0</td>\n      <td>878</td>\n      <td>146</td>\n    </tr>\n    <tr>\n      <th>...</th>\n      <td>...</td>\n      <td>...</td>\n      <td>...</td>\n      <td>...</td>\n      <td>...</td>\n      <td>...</td>\n      <td>...</td>\n      <td>...</td>\n      <td>...</td>\n      <td>...</td>\n      <td>...</td>\n      <td>...</td>\n      <td>...</td>\n      <td>...</td>\n      <td>...</td>\n      <td>...</td>\n      <td>...</td>\n      <td>...</td>\n    </tr>\n    <tr>\n      <th>3378</th>\n      <td>4</td>\n      <td>1</td>\n      <td>13</td>\n      <td>1</td>\n      <td>1</td>\n      <td>313</td>\n      <td>844</td>\n      <td>287</td>\n      <td>26</td>\n      <td>0</td>\n      <td>4</td>\n      <td>9</td>\n      <td>0</td>\n      <td>RefCode</td>\n      <td>0</td>\n      <td>1</td>\n      <td>600</td>\n      <td>870</td>\n    </tr>\n    <tr>\n      <th>3379</th>\n      <td>4</td>\n      <td>1</td>\n      <td>13</td>\n      <td>1</td>\n      <td>1</td>\n      <td>313</td>\n      <td>844</td>\n      <td>287</td>\n      <td>26</td>\n      <td>4</td>\n      <td>0</td>\n      <td>9</td>\n      <td>0</td>\n      <td>RefCode</td>\n      <td>0</td>\n      <td>1</td>\n      <td>600</td>\n      <td>870</td>\n    </tr>\n    <tr>\n      <th>3380</th>\n      <td>4</td>\n      <td>1</td>\n      <td>13</td>\n      <td>1</td>\n      <td>1</td>\n      <td>313</td>\n      <td>844</td>\n      <td>288</td>\n      <td>26</td>\n      <td>4</td>\n      <td>0</td>\n      <td>9</td>\n      <td>0</td>\n      <td>RefCode</td>\n      <td>0</td>\n      <td>1</td>\n      <td>601</td>\n      <td>870</td>\n    </tr>\n    <tr>\n      <th>3381</th>\n      <td>4</td>\n      <td>1</td>\n      <td>13</td>\n      <td>1</td>\n      <td>1</td>\n      <td>313</td>\n      <td>1071</td>\n      <td>286</td>\n      <td>26</td>\n      <td>4</td>\n      <td>0</td>\n      <td>9</td>\n      <td>0</td>\n      <td>RefCode</td>\n      <td>0</td>\n      <td>1</td>\n      <td>599</td>\n      <td>1097</td>\n    </tr>\n    <tr>\n      <th>3382</th>\n      <td>4</td>\n      <td>1</td>\n      <td>14</td>\n      <td>1</td>\n      <td>1</td>\n      <td>313</td>\n      <td>1071</td>\n      <td>287</td>\n      <td>26</td>\n      <td>4</td>\n      <td>0</td>\n      <td>9</td>\n      <td>0</td>\n      <td>RefCode</td>\n      <td>0</td>\n      <td>1</td>\n      <td>600</td>\n      <td>1097</td>\n    </tr>\n  </tbody>\n</table>\n<p>3383 rows × 18 columns</p>\n</div>"
          },
          "metadata": {},
          "execution_count": 37
        }
      ]
    },
    {
      "cell_type": "markdown",
      "metadata": {
        "id": "P81-zo4-zEJJ"
      },
      "source": [
        "feature important"
      ]
    },
    {
      "cell_type": "code",
      "metadata": {
        "id": "UGTzZpOiyjzw"
      },
      "source": [
        "dataX = df.drop(columns=['label'])\n",
        "dataY = df[['label']]\n",
        "modelClf = tree.DecisionTreeClassifier().fit(dataX, dataY)"
      ],
      "execution_count": 38,
      "outputs": []
    },
    {
      "cell_type": "code",
      "metadata": {
        "colab": {
          "base_uri": "https://localhost:8080/"
        },
        "id": "Pxjecu2nzqwZ",
        "outputId": "39046bb2-7c19-4c89-e05b-7ad59b3025f8"
      },
      "source": [
        "array_important = []\n",
        "\n",
        "for i,j in enumerate(dataX):\n",
        "  score_f = modelClf.feature_importances_\n",
        "  print(j, '= ', score_f[i])\n",
        "\n"
      ],
      "execution_count": 39,
      "outputs": [
        {
          "output_type": "stream",
          "name": "stdout",
          "text": [
            "level =  0.0\npage_num =  0.0\nblock_num =  0.019611422021461544\npar_num =  0.0006950655278522392\nline_num =  0.00639943277442218\nleft =  0.005621607317806825\ntop =  0.26831023552028493\nwidth =  0.052986423137551426\nheight =  0.04173253030521944\nCEng =  0.009483576143628608\nCtha =  0.003040911684353546\nCNum =  0.43071400802071624\nCSym =  0.010091707716673837\nBank_Kbank =  0.0\nBank_krungsri =  0.00042773263252445475\nrange_width =  0.009513135110616284\nrange_height =  0.14137221208688838\n"
          ]
        }
      ]
    },
    {
      "cell_type": "code",
      "metadata": {
        "colab": {
          "base_uri": "https://localhost:8080/"
        },
        "id": "sCMgCvxo1nXi",
        "outputId": "a63c1cec-8300-4ced-949e-e939f834fe1e"
      },
      "source": [
        "X_train, X_test, y_train, y_test = train_test_split(dataX, dataY, test_size=0.2, random_state=42)\n",
        "\n",
        "parameters = {\n",
        "    'n_neighbors': [3,5,7,9,11,13,15,17,19,21,23,25,27,29,31,33,35,37,39,41,43], \n",
        "    'weights': ['uniform', 'distance'],\n",
        "    'algorithm': ['auto', 'ball_tree', 'kd_tree', 'brute']\n",
        "}\n",
        "\n",
        "KNN_Model = GridSearchCV(\n",
        "    KNeighborsClassifier(),\n",
        "    parameters,n_jobs=-1, cv=5).fit(X_train, y_train)\n",
        "print(KNN_Model.best_params_)\n",
        "print(KNN_Model.best_score_)"
      ],
      "execution_count": 40,
      "outputs": [
        {
          "output_type": "stream",
          "name": "stdout",
          "text": [
            "{'algorithm': 'brute', 'n_neighbors': 3, 'weights': 'distance'}\n",
            "0.9715457912434948\n",
            "/Users/pcsishun/opt/anaconda3/lib/python3.8/site-packages/sklearn/model_selection/_search.py:765: DataConversionWarning: A column-vector y was passed when a 1d array was expected. Please change the shape of y to (n_samples, ), for example using ravel().\n",
            "  self.best_estimator_.fit(X, y, **fit_params)\n"
          ]
        }
      ]
    },
    {
      "cell_type": "code",
      "metadata": {
        "colab": {
          "base_uri": "https://localhost:8080/"
        },
        "id": "hx0r6HL53sjJ",
        "outputId": "1e6b110e-3f51-4469-a781-4772ea7e89bb"
      },
      "source": [
        "y_pred = KNN_Model.predict(X_test)\n",
        "print(classification_report(y_test,y_pred))"
      ],
      "execution_count": 41,
      "outputs": [
        {
          "output_type": "stream",
          "name": "stdout",
          "text": [
            "              precision    recall  f1-score   support\n\n     Account       1.00      1.00      1.00        15\n      Amount       0.91      0.97      0.94        62\n        Name       1.00      0.75      0.86         4\n      NotUse       0.99      0.98      0.98       428\n     RefCode       0.98      0.98      0.98        59\n      Timing       0.98      1.00      0.99       109\n\n    accuracy                           0.98       677\n   macro avg       0.98      0.95      0.96       677\nweighted avg       0.98      0.98      0.98       677\n\n"
          ]
        }
      ]
    },
    {
      "cell_type": "markdown",
      "metadata": {
        "id": "jVQmEJwREmLa"
      },
      "source": [
        "Using Normalize "
      ]
    },
    {
      "cell_type": "code",
      "metadata": {
        "id": "WMF4qXLT4iD9",
        "colab": {
          "base_uri": "https://localhost:8080/",
          "height": 419
        },
        "outputId": "cd7c95f2-23a0-49d2-9597-9e07afb0df09"
      },
      "source": [
        "# df = pd.read_csv('TrainingData.csv')\n",
        "df = pd.read_csv('./trainingData/TrainData_withoutWord.csv')\n",
        "# df = df.drop(columns=['word'])\n",
        "df = pd.get_dummies(data= df, columns=['Bank'])\n",
        "range_width = df['left'] + df['width']\n",
        "range_height = df['top'] + df['height']\n",
        "df['range_width'] = range_width \n",
        "df['range_height'] = range_height\n",
        "df"
      ],
      "execution_count": 42,
      "outputs": [
        {
          "output_type": "execute_result",
          "data": {
            "text/plain": [
              "      level  page_num  block_num  par_num  line_num  left   top  width  \\\n",
              "0         4         1          1        1         1    41    11    645   \n",
              "1         4         1          1        1         1    42    11    608   \n",
              "2         4         1          1        1         1    42    15    201   \n",
              "3         4         1          1        1         1    78    28    800   \n",
              "4         4         1          1        1         1    78    28    800   \n",
              "...     ...       ...        ...      ...       ...   ...   ...    ...   \n",
              "3378      4         1         13        1         1   313   844    287   \n",
              "3379      4         1         13        1         1   313   844    287   \n",
              "3380      4         1         13        1         1   313   844    288   \n",
              "3381      4         1         13        1         1   313  1071    286   \n",
              "3382      4         1         14        1         1   313  1071    287   \n",
              "\n",
              "      height  CEng  Ctha  CNum  CSym    label  Bank_Kbank  Bank_krungsri  \\\n",
              "0         71     0    12     1     5   NotUse           1              0   \n",
              "1         70     0    11     1     4   NotUse           1              0   \n",
              "2         35     0    11     0     3   NotUse           1              0   \n",
              "3        118     0    11     0     6   NotUse           1              0   \n",
              "4        118     2    11     0     4   NotUse           1              0   \n",
              "...      ...   ...   ...   ...   ...      ...         ...            ...   \n",
              "3378      26     0     4     9     0  RefCode           0              1   \n",
              "3379      26     4     0     9     0  RefCode           0              1   \n",
              "3380      26     4     0     9     0  RefCode           0              1   \n",
              "3381      26     4     0     9     0  RefCode           0              1   \n",
              "3382      26     4     0     9     0  RefCode           0              1   \n",
              "\n",
              "      range_width  range_height  \n",
              "0             686            82  \n",
              "1             650            81  \n",
              "2             243            50  \n",
              "3             878           146  \n",
              "4             878           146  \n",
              "...           ...           ...  \n",
              "3378          600           870  \n",
              "3379          600           870  \n",
              "3380          601           870  \n",
              "3381          599          1097  \n",
              "3382          600          1097  \n",
              "\n",
              "[3383 rows x 18 columns]"
            ],
            "text/html": "<div>\n<style scoped>\n    .dataframe tbody tr th:only-of-type {\n        vertical-align: middle;\n    }\n\n    .dataframe tbody tr th {\n        vertical-align: top;\n    }\n\n    .dataframe thead th {\n        text-align: right;\n    }\n</style>\n<table border=\"1\" class=\"dataframe\">\n  <thead>\n    <tr style=\"text-align: right;\">\n      <th></th>\n      <th>level</th>\n      <th>page_num</th>\n      <th>block_num</th>\n      <th>par_num</th>\n      <th>line_num</th>\n      <th>left</th>\n      <th>top</th>\n      <th>width</th>\n      <th>height</th>\n      <th>CEng</th>\n      <th>Ctha</th>\n      <th>CNum</th>\n      <th>CSym</th>\n      <th>label</th>\n      <th>Bank_Kbank</th>\n      <th>Bank_krungsri</th>\n      <th>range_width</th>\n      <th>range_height</th>\n    </tr>\n  </thead>\n  <tbody>\n    <tr>\n      <th>0</th>\n      <td>4</td>\n      <td>1</td>\n      <td>1</td>\n      <td>1</td>\n      <td>1</td>\n      <td>41</td>\n      <td>11</td>\n      <td>645</td>\n      <td>71</td>\n      <td>0</td>\n      <td>12</td>\n      <td>1</td>\n      <td>5</td>\n      <td>NotUse</td>\n      <td>1</td>\n      <td>0</td>\n      <td>686</td>\n      <td>82</td>\n    </tr>\n    <tr>\n      <th>1</th>\n      <td>4</td>\n      <td>1</td>\n      <td>1</td>\n      <td>1</td>\n      <td>1</td>\n      <td>42</td>\n      <td>11</td>\n      <td>608</td>\n      <td>70</td>\n      <td>0</td>\n      <td>11</td>\n      <td>1</td>\n      <td>4</td>\n      <td>NotUse</td>\n      <td>1</td>\n      <td>0</td>\n      <td>650</td>\n      <td>81</td>\n    </tr>\n    <tr>\n      <th>2</th>\n      <td>4</td>\n      <td>1</td>\n      <td>1</td>\n      <td>1</td>\n      <td>1</td>\n      <td>42</td>\n      <td>15</td>\n      <td>201</td>\n      <td>35</td>\n      <td>0</td>\n      <td>11</td>\n      <td>0</td>\n      <td>3</td>\n      <td>NotUse</td>\n      <td>1</td>\n      <td>0</td>\n      <td>243</td>\n      <td>50</td>\n    </tr>\n    <tr>\n      <th>3</th>\n      <td>4</td>\n      <td>1</td>\n      <td>1</td>\n      <td>1</td>\n      <td>1</td>\n      <td>78</td>\n      <td>28</td>\n      <td>800</td>\n      <td>118</td>\n      <td>0</td>\n      <td>11</td>\n      <td>0</td>\n      <td>6</td>\n      <td>NotUse</td>\n      <td>1</td>\n      <td>0</td>\n      <td>878</td>\n      <td>146</td>\n    </tr>\n    <tr>\n      <th>4</th>\n      <td>4</td>\n      <td>1</td>\n      <td>1</td>\n      <td>1</td>\n      <td>1</td>\n      <td>78</td>\n      <td>28</td>\n      <td>800</td>\n      <td>118</td>\n      <td>2</td>\n      <td>11</td>\n      <td>0</td>\n      <td>4</td>\n      <td>NotUse</td>\n      <td>1</td>\n      <td>0</td>\n      <td>878</td>\n      <td>146</td>\n    </tr>\n    <tr>\n      <th>...</th>\n      <td>...</td>\n      <td>...</td>\n      <td>...</td>\n      <td>...</td>\n      <td>...</td>\n      <td>...</td>\n      <td>...</td>\n      <td>...</td>\n      <td>...</td>\n      <td>...</td>\n      <td>...</td>\n      <td>...</td>\n      <td>...</td>\n      <td>...</td>\n      <td>...</td>\n      <td>...</td>\n      <td>...</td>\n      <td>...</td>\n    </tr>\n    <tr>\n      <th>3378</th>\n      <td>4</td>\n      <td>1</td>\n      <td>13</td>\n      <td>1</td>\n      <td>1</td>\n      <td>313</td>\n      <td>844</td>\n      <td>287</td>\n      <td>26</td>\n      <td>0</td>\n      <td>4</td>\n      <td>9</td>\n      <td>0</td>\n      <td>RefCode</td>\n      <td>0</td>\n      <td>1</td>\n      <td>600</td>\n      <td>870</td>\n    </tr>\n    <tr>\n      <th>3379</th>\n      <td>4</td>\n      <td>1</td>\n      <td>13</td>\n      <td>1</td>\n      <td>1</td>\n      <td>313</td>\n      <td>844</td>\n      <td>287</td>\n      <td>26</td>\n      <td>4</td>\n      <td>0</td>\n      <td>9</td>\n      <td>0</td>\n      <td>RefCode</td>\n      <td>0</td>\n      <td>1</td>\n      <td>600</td>\n      <td>870</td>\n    </tr>\n    <tr>\n      <th>3380</th>\n      <td>4</td>\n      <td>1</td>\n      <td>13</td>\n      <td>1</td>\n      <td>1</td>\n      <td>313</td>\n      <td>844</td>\n      <td>288</td>\n      <td>26</td>\n      <td>4</td>\n      <td>0</td>\n      <td>9</td>\n      <td>0</td>\n      <td>RefCode</td>\n      <td>0</td>\n      <td>1</td>\n      <td>601</td>\n      <td>870</td>\n    </tr>\n    <tr>\n      <th>3381</th>\n      <td>4</td>\n      <td>1</td>\n      <td>13</td>\n      <td>1</td>\n      <td>1</td>\n      <td>313</td>\n      <td>1071</td>\n      <td>286</td>\n      <td>26</td>\n      <td>4</td>\n      <td>0</td>\n      <td>9</td>\n      <td>0</td>\n      <td>RefCode</td>\n      <td>0</td>\n      <td>1</td>\n      <td>599</td>\n      <td>1097</td>\n    </tr>\n    <tr>\n      <th>3382</th>\n      <td>4</td>\n      <td>1</td>\n      <td>14</td>\n      <td>1</td>\n      <td>1</td>\n      <td>313</td>\n      <td>1071</td>\n      <td>287</td>\n      <td>26</td>\n      <td>4</td>\n      <td>0</td>\n      <td>9</td>\n      <td>0</td>\n      <td>RefCode</td>\n      <td>0</td>\n      <td>1</td>\n      <td>600</td>\n      <td>1097</td>\n    </tr>\n  </tbody>\n</table>\n<p>3383 rows × 18 columns</p>\n</div>"
          },
          "metadata": {},
          "execution_count": 42
        }
      ]
    },
    {
      "cell_type": "code",
      "metadata": {
        "id": "GzDU818EErOL"
      },
      "source": [
        "scaler = MinMaxScaler()\n",
        "df[['left', 'top', 'width', 'height', 'CEng', 'Ctha', 'CNum', 'CSym', 'range_width', 'range_height']] = scaler.fit_transform(df[['left', 'top', 'width', 'height', 'CEng', 'Ctha', 'CNum', 'CSym', 'range_width', 'range_height']])\n"
      ],
      "execution_count": 43,
      "outputs": []
    },
    {
      "cell_type": "code",
      "metadata": {
        "colab": {
          "base_uri": "https://localhost:8080/",
          "height": 419
        },
        "id": "-qtfUEvzHA0z",
        "outputId": "9f15c67a-fcd8-4b63-f24a-f597987b6113"
      },
      "source": [
        "df"
      ],
      "execution_count": 44,
      "outputs": [
        {
          "output_type": "execute_result",
          "data": {
            "text/plain": [
              "      level  page_num  block_num  par_num  line_num      left       top  \\\n",
              "0         4         1          1        1         1  0.027563  0.006540   \n",
              "1         4         1          1        1         1  0.028666  0.006540   \n",
              "2         4         1          1        1         1  0.028666  0.008918   \n",
              "3         4         1          1        1         1  0.068357  0.016647   \n",
              "4         4         1          1        1         1  0.068357  0.016647   \n",
              "...     ...       ...        ...      ...       ...       ...       ...   \n",
              "3378      4         1         13        1         1  0.327453  0.501784   \n",
              "3379      4         1         13        1         1  0.327453  0.501784   \n",
              "3380      4         1         13        1         1  0.327453  0.501784   \n",
              "3381      4         1         13        1         1  0.327453  0.636742   \n",
              "3382      4         1         14        1         1  0.327453  0.636742   \n",
              "\n",
              "         width    height      CEng      Ctha      CNum    CSym    label  \\\n",
              "0     0.734250  0.151844  0.000000  0.315789  0.047619  0.3125   NotUse   \n",
              "1     0.691867  0.149675  0.000000  0.289474  0.047619  0.2500   NotUse   \n",
              "2     0.225659  0.073753  0.000000  0.289474  0.000000  0.1875   NotUse   \n",
              "3     0.911798  0.253796  0.000000  0.289474  0.000000  0.3750   NotUse   \n",
              "4     0.911798  0.253796  0.086957  0.289474  0.000000  0.2500   NotUse   \n",
              "...        ...       ...       ...       ...       ...     ...      ...   \n",
              "3378  0.324170  0.054230  0.000000  0.105263  0.428571  0.0000  RefCode   \n",
              "3379  0.324170  0.054230  0.173913  0.000000  0.428571  0.0000  RefCode   \n",
              "3380  0.325315  0.054230  0.173913  0.000000  0.428571  0.0000  RefCode   \n",
              "3381  0.323024  0.054230  0.173913  0.000000  0.428571  0.0000  RefCode   \n",
              "3382  0.324170  0.054230  0.173913  0.000000  0.428571  0.0000  RefCode   \n",
              "\n",
              "      Bank_Kbank  Bank_krungsri  range_width  range_height  \n",
              "0              1              0     0.679310      0.019104  \n",
              "1              1              0     0.637931      0.018507  \n",
              "2              1              0     0.170115      0.000000  \n",
              "3              1              0     0.900000      0.057313  \n",
              "4              1              0     0.900000      0.057313  \n",
              "...          ...            ...          ...           ...  \n",
              "3378           0              1     0.580460      0.489552  \n",
              "3379           0              1     0.580460      0.489552  \n",
              "3380           0              1     0.581609      0.489552  \n",
              "3381           0              1     0.579310      0.625075  \n",
              "3382           0              1     0.580460      0.625075  \n",
              "\n",
              "[3383 rows x 18 columns]"
            ],
            "text/html": "<div>\n<style scoped>\n    .dataframe tbody tr th:only-of-type {\n        vertical-align: middle;\n    }\n\n    .dataframe tbody tr th {\n        vertical-align: top;\n    }\n\n    .dataframe thead th {\n        text-align: right;\n    }\n</style>\n<table border=\"1\" class=\"dataframe\">\n  <thead>\n    <tr style=\"text-align: right;\">\n      <th></th>\n      <th>level</th>\n      <th>page_num</th>\n      <th>block_num</th>\n      <th>par_num</th>\n      <th>line_num</th>\n      <th>left</th>\n      <th>top</th>\n      <th>width</th>\n      <th>height</th>\n      <th>CEng</th>\n      <th>Ctha</th>\n      <th>CNum</th>\n      <th>CSym</th>\n      <th>label</th>\n      <th>Bank_Kbank</th>\n      <th>Bank_krungsri</th>\n      <th>range_width</th>\n      <th>range_height</th>\n    </tr>\n  </thead>\n  <tbody>\n    <tr>\n      <th>0</th>\n      <td>4</td>\n      <td>1</td>\n      <td>1</td>\n      <td>1</td>\n      <td>1</td>\n      <td>0.027563</td>\n      <td>0.006540</td>\n      <td>0.734250</td>\n      <td>0.151844</td>\n      <td>0.000000</td>\n      <td>0.315789</td>\n      <td>0.047619</td>\n      <td>0.3125</td>\n      <td>NotUse</td>\n      <td>1</td>\n      <td>0</td>\n      <td>0.679310</td>\n      <td>0.019104</td>\n    </tr>\n    <tr>\n      <th>1</th>\n      <td>4</td>\n      <td>1</td>\n      <td>1</td>\n      <td>1</td>\n      <td>1</td>\n      <td>0.028666</td>\n      <td>0.006540</td>\n      <td>0.691867</td>\n      <td>0.149675</td>\n      <td>0.000000</td>\n      <td>0.289474</td>\n      <td>0.047619</td>\n      <td>0.2500</td>\n      <td>NotUse</td>\n      <td>1</td>\n      <td>0</td>\n      <td>0.637931</td>\n      <td>0.018507</td>\n    </tr>\n    <tr>\n      <th>2</th>\n      <td>4</td>\n      <td>1</td>\n      <td>1</td>\n      <td>1</td>\n      <td>1</td>\n      <td>0.028666</td>\n      <td>0.008918</td>\n      <td>0.225659</td>\n      <td>0.073753</td>\n      <td>0.000000</td>\n      <td>0.289474</td>\n      <td>0.000000</td>\n      <td>0.1875</td>\n      <td>NotUse</td>\n      <td>1</td>\n      <td>0</td>\n      <td>0.170115</td>\n      <td>0.000000</td>\n    </tr>\n    <tr>\n      <th>3</th>\n      <td>4</td>\n      <td>1</td>\n      <td>1</td>\n      <td>1</td>\n      <td>1</td>\n      <td>0.068357</td>\n      <td>0.016647</td>\n      <td>0.911798</td>\n      <td>0.253796</td>\n      <td>0.000000</td>\n      <td>0.289474</td>\n      <td>0.000000</td>\n      <td>0.3750</td>\n      <td>NotUse</td>\n      <td>1</td>\n      <td>0</td>\n      <td>0.900000</td>\n      <td>0.057313</td>\n    </tr>\n    <tr>\n      <th>4</th>\n      <td>4</td>\n      <td>1</td>\n      <td>1</td>\n      <td>1</td>\n      <td>1</td>\n      <td>0.068357</td>\n      <td>0.016647</td>\n      <td>0.911798</td>\n      <td>0.253796</td>\n      <td>0.086957</td>\n      <td>0.289474</td>\n      <td>0.000000</td>\n      <td>0.2500</td>\n      <td>NotUse</td>\n      <td>1</td>\n      <td>0</td>\n      <td>0.900000</td>\n      <td>0.057313</td>\n    </tr>\n    <tr>\n      <th>...</th>\n      <td>...</td>\n      <td>...</td>\n      <td>...</td>\n      <td>...</td>\n      <td>...</td>\n      <td>...</td>\n      <td>...</td>\n      <td>...</td>\n      <td>...</td>\n      <td>...</td>\n      <td>...</td>\n      <td>...</td>\n      <td>...</td>\n      <td>...</td>\n      <td>...</td>\n      <td>...</td>\n      <td>...</td>\n      <td>...</td>\n    </tr>\n    <tr>\n      <th>3378</th>\n      <td>4</td>\n      <td>1</td>\n      <td>13</td>\n      <td>1</td>\n      <td>1</td>\n      <td>0.327453</td>\n      <td>0.501784</td>\n      <td>0.324170</td>\n      <td>0.054230</td>\n      <td>0.000000</td>\n      <td>0.105263</td>\n      <td>0.428571</td>\n      <td>0.0000</td>\n      <td>RefCode</td>\n      <td>0</td>\n      <td>1</td>\n      <td>0.580460</td>\n      <td>0.489552</td>\n    </tr>\n    <tr>\n      <th>3379</th>\n      <td>4</td>\n      <td>1</td>\n      <td>13</td>\n      <td>1</td>\n      <td>1</td>\n      <td>0.327453</td>\n      <td>0.501784</td>\n      <td>0.324170</td>\n      <td>0.054230</td>\n      <td>0.173913</td>\n      <td>0.000000</td>\n      <td>0.428571</td>\n      <td>0.0000</td>\n      <td>RefCode</td>\n      <td>0</td>\n      <td>1</td>\n      <td>0.580460</td>\n      <td>0.489552</td>\n    </tr>\n    <tr>\n      <th>3380</th>\n      <td>4</td>\n      <td>1</td>\n      <td>13</td>\n      <td>1</td>\n      <td>1</td>\n      <td>0.327453</td>\n      <td>0.501784</td>\n      <td>0.325315</td>\n      <td>0.054230</td>\n      <td>0.173913</td>\n      <td>0.000000</td>\n      <td>0.428571</td>\n      <td>0.0000</td>\n      <td>RefCode</td>\n      <td>0</td>\n      <td>1</td>\n      <td>0.581609</td>\n      <td>0.489552</td>\n    </tr>\n    <tr>\n      <th>3381</th>\n      <td>4</td>\n      <td>1</td>\n      <td>13</td>\n      <td>1</td>\n      <td>1</td>\n      <td>0.327453</td>\n      <td>0.636742</td>\n      <td>0.323024</td>\n      <td>0.054230</td>\n      <td>0.173913</td>\n      <td>0.000000</td>\n      <td>0.428571</td>\n      <td>0.0000</td>\n      <td>RefCode</td>\n      <td>0</td>\n      <td>1</td>\n      <td>0.579310</td>\n      <td>0.625075</td>\n    </tr>\n    <tr>\n      <th>3382</th>\n      <td>4</td>\n      <td>1</td>\n      <td>14</td>\n      <td>1</td>\n      <td>1</td>\n      <td>0.327453</td>\n      <td>0.636742</td>\n      <td>0.324170</td>\n      <td>0.054230</td>\n      <td>0.173913</td>\n      <td>0.000000</td>\n      <td>0.428571</td>\n      <td>0.0000</td>\n      <td>RefCode</td>\n      <td>0</td>\n      <td>1</td>\n      <td>0.580460</td>\n      <td>0.625075</td>\n    </tr>\n  </tbody>\n</table>\n<p>3383 rows × 18 columns</p>\n</div>"
          },
          "metadata": {},
          "execution_count": 44
        }
      ]
    },
    {
      "cell_type": "code",
      "metadata": {
        "colab": {
          "base_uri": "https://localhost:8080/"
        },
        "id": "eSLKJYYGEzvC",
        "outputId": "8642206e-fd31-4b07-8074-0d1282f76f6b"
      },
      "source": [
        "DataNorX = df.drop(columns=['label'])\n",
        "DataNorY = df[['label']]\n",
        "modelClf = tree.DecisionTreeClassifier().fit(DataNorX, DataNorY)\n",
        "\n",
        "array_important = []\n",
        "\n",
        "for i,j in enumerate(dataX):\n",
        "  score_f = modelClf.feature_importances_\n",
        "  print(j, '= ', score_f[i])\n",
        "\n"
      ],
      "execution_count": 45,
      "outputs": [
        {
          "output_type": "stream",
          "name": "stdout",
          "text": [
            "level =  0.0\npage_num =  0.0\nblock_num =  0.019611422021461544\npar_num =  0.0\nline_num =  0.00657319915638524\nleft =  0.0067980486838423206\ntop =  0.051128705847907616\nwidth =  0.050552098608487306\nheight =  0.037275859929614207\nCEng =  0.010717726561542334\nCtha =  0.002476170942973602\nCNum =  0.4288955495985711\nCSym =  0.0105189518752365\nBank_Kbank =  0.0\nBank_krungsri =  0.0005212991458891795\nrange_width =  0.011088320598013126\nrange_height =  0.36384264703007585\n"
          ]
        }
      ]
    },
    {
      "cell_type": "code",
      "metadata": {
        "colab": {
          "base_uri": "https://localhost:8080/"
        },
        "id": "wELOeB6HHZ7G",
        "outputId": "ec1926d4-a158-4681-97dd-b0625d9b010a"
      },
      "source": [
        "X_trainNor, X_testNor, y_trainNor, y_testNor = train_test_split(DataNorX, DataNorY, test_size=0.2, random_state=42)\n",
        "\n",
        "parameters = {\n",
        "    'n_neighbors': [3,5,7,9,11,13,15,17,19,21,23,25,27,29,31,33,35,37,39,41,43], \n",
        "    'weights': ['uniform', 'distance'],\n",
        "    'algorithm': ['auto', 'ball_tree', 'kd_tree', 'brute']\n",
        "}\n",
        "\n",
        "KNN_Nor_Model = GridSearchCV(\n",
        "    KNeighborsClassifier(),\n",
        "    parameters,n_jobs=-1, cv=5).fit(X_trainNor, y_trainNor)\n",
        "print(KNN_Nor_Model.best_params_)\n",
        "print(KNN_Nor_Model.best_score_)"
      ],
      "execution_count": 46,
      "outputs": [
        {
          "output_type": "stream",
          "name": "stdout",
          "text": [
            "{'algorithm': 'auto', 'n_neighbors': 3, 'weights': 'distance'}\n",
            "0.9316374624005019\n",
            "/Users/pcsishun/opt/anaconda3/lib/python3.8/site-packages/sklearn/model_selection/_search.py:765: DataConversionWarning: A column-vector y was passed when a 1d array was expected. Please change the shape of y to (n_samples, ), for example using ravel().\n",
            "  self.best_estimator_.fit(X, y, **fit_params)\n"
          ]
        }
      ]
    },
    {
      "cell_type": "code",
      "metadata": {
        "colab": {
          "base_uri": "https://localhost:8080/"
        },
        "id": "5QKMGCc5HrEr",
        "outputId": "dd03b119-b771-494c-985d-96d8057d84b5"
      },
      "source": [
        "y_predNor = KNN_Nor_Model.predict(X_testNor)\n",
        "print(classification_report(y_testNor,y_predNor))"
      ],
      "execution_count": 47,
      "outputs": [
        {
          "output_type": "stream",
          "name": "stdout",
          "text": [
            "              precision    recall  f1-score   support\n\n     Account       0.83      0.67      0.74        15\n      Amount       0.79      0.94      0.86        62\n        Name       0.75      0.75      0.75         4\n      NotUse       0.97      0.96      0.96       428\n     RefCode       0.98      0.92      0.95        59\n      Timing       0.99      1.00      1.00       109\n\n    accuracy                           0.95       677\n   macro avg       0.89      0.87      0.88       677\nweighted avg       0.95      0.95      0.95       677\n\n"
          ]
        }
      ]
    },
    {
      "cell_type": "markdown",
      "metadata": {
        "id": "qBDinsZXcTuT"
      },
      "source": [
        "# 1:Using data with more count per-word. with BB and train all banking\n",
        "\n",
        "---\n",
        "\n"
      ]
    },
    {
      "cell_type": "code",
      "metadata": {
        "id": "ErQksqWmHy8J",
        "colab": {
          "base_uri": "https://localhost:8080/"
        },
        "outputId": "eeaab3d8-957c-4eb4-99b5-8bbc3bab1ad4"
      },
      "source": [
        "df = pd.read_csv('data_more_count.csv') \n",
        "df = pd.get_dummies(data= df, columns=['Bank','level','page_num','block_num','par_num','line_num'])\n",
        "range_width = df['left'] + df['width']\n",
        "range_height = df['top'] + df['height']\n",
        "df['range_width'] = range_width \n",
        "df['range_height'] = range_height\n",
        "df = df.drop(columns=['word'])\n",
        "print(df)"
      ],
      "execution_count": 48,
      "outputs": [
        {
          "output_type": "stream",
          "name": "stdout",
          "text": [
            "      left   top  width  height  CEng  Ctha  CNum  CSym    label  ฎ  ...  \\\n0       41    11    645      71     0    12     1     5   NotUse  0  ...   \n1       42    11    608      70     0    11     1     4   NotUse  0  ...   \n2       42    15    201      35     0    11     0     3   NotUse  0  ...   \n3       78    28    800     118     0    11     0     6   NotUse  0  ...   \n4       78    28    800     118     2    11     0     4   NotUse  0  ...   \n...    ...   ...    ...     ...   ...   ...   ...   ...      ... ..  ...   \n5367   313   844    288      26     4     0     9     0  RefCode  0  ...   \n5368   313   844    288      26     4     0     9     0  RefCode  0  ...   \n5369   313  1071    286      26     4     0     9     0  RefCode  0  ...   \n5370   313  1071    287      26     4     0     9     0  RefCode  0  ...   \n5371   313  1071    287      26     4     0     9     0  RefCode  0  ...   \n\n      line_num_1  line_num_2  line_num_3  line_num_4  line_num_5  line_num_6  \\\n0              1           0           0           0           0           0   \n1              1           0           0           0           0           0   \n2              1           0           0           0           0           0   \n3              1           0           0           0           0           0   \n4              1           0           0           0           0           0   \n...          ...         ...         ...         ...         ...         ...   \n5367           1           0           0           0           0           0   \n5368           1           0           0           0           0           0   \n5369           1           0           0           0           0           0   \n5370           1           0           0           0           0           0   \n5371           1           0           0           0           0           0   \n\n      line_num_7  line_num_8  range_width  range_height  \n0              0           0          686            82  \n1              0           0          650            81  \n2              0           0          243            50  \n3              0           0          878           146  \n4              0           0          878           146  \n...          ...         ...          ...           ...  \n5367           0           0          601           870  \n5368           0           0          601           870  \n5369           0           0          599          1097  \n5370           0           0          600          1097  \n5371           0           0          600          1097  \n\n[5372 rows x 149 columns]\n"
          ]
        }
      ]
    },
    {
      "cell_type": "code",
      "metadata": {
        "colab": {
          "base_uri": "https://localhost:8080/"
        },
        "id": "jXtXtO40bxYN",
        "outputId": "16966b8a-3f2c-4fcb-d814-1c5c66fdf49c"
      },
      "source": [
        "dataX = df.drop(columns=['label'])\n",
        "dataY = df[['label']]\n",
        "modelClf = tree.DecisionTreeClassifier().fit(dataX, dataY)\n",
        "\n",
        "array_important = []\n",
        "\n",
        "for i,j in enumerate(dataX):\n",
        "  score_f = modelClf.feature_importances_\n",
        "  print(j, '= ', score_f[i])\n",
        "\n"
      ],
      "execution_count": 49,
      "outputs": [
        {
          "output_type": "stream",
          "name": "stdout",
          "text": [
            "left =  0.01134184087053008\ntop =  0.11480922771259167\nwidth =  0.005761774176362613\nheight =  0.002179942909387429\nCEng =  0.01510135036818529\nCtha =  0.0\nCNum =  0.26770577100656867\nCSym =  0.019557683235086717\nฎ =  0.0\nพ =  0.0\nฑ =  0.0\nธ =  0.0\nร =  0.0\nณ =  0.0\nน =  0.0\nย =  0.003068952253622124\nญ =  0.0\nบ =  0.002393398270737634\nฐ =  0.0\nล =  0.0\nฟ =  0.0\nฤ =  0.0\nห =  0.0\nฆ =  0.0\nก =  0.0\nฏ =  0.0\nด =  0.0\nฌ =  0.0\nษ =  0.0\nส =  0.0\nศ =  0.0\nว =  0.0\nซ =  0.0\nง =  0.0\nผ =  0.0\nป =  0.0\nฉ =  0.0\nอ =  0.0\nฮ =  0.0\nท =  0.0\nม =  0.0\nฒ =  0.0\nฬ =  0.0\nฝ =  0.0\nฦ =  0.0\nภ =  0.0\nถ =  0.0\nค =  0.0\nต =  0.0\nจ =  0.0005094768810780725\nข =  0.0\nช =  0.0\nq =  0.0\nw =  0.0\ne =  0.0\nr =  0.002775657088800968\nt =  0.0\ny =  0.0\nu =  0.0\ni =  0.000683045066628727\no =  0.0\np =  0.0005273339869390737\na =  0.0\ns =  0.0\nd =  0.0\nf =  0.0\ng =  0.0\nh =  0.0\nj =  0.0\nk =  0.0\nl =  0.0\nz =  0.0\nx =  0.0\nc =  0.0\nv =  0.0\nb =  0.0\nn =  0.005271902270313699\nm =  0.0\n1 =  0.0011788912401770478\n2 =  0.00012837791038277768\n3 =  0.00020744431396503706\n4 =  0.00022809230041421797\n5 =  0.0009811456371836512\n6 =  0.0\n7 =  0.0\n8 =  0.0004948283376754756\n9 =  0.001963505682658138\n0 =  0.041317995736589744\n! =  0.0\n@ =  0.0\n# =  0.0\n$ =  0.0\n% =  0.005733015643350133\n^ =  0.0\n& =  0.0\n* =  0.0\n( =  0.0\n) =  0.0\n- =  0.0013928501356791163\n_ =  0.0\n=' =  0.0\n+ =  0.0002276827836201618\n{ =  0.0\n} =  0.0\n[ =  0.0\n] =  0.0\n; =  0.0\n: =  4.3984741126708964e-05\n< =  0.0\n> =  0.0\n. =  0.1844681531312404\n? =  0.0\n/ =  0.0\n฿ =  0.0\nblank =  0.0\nblankSpace =  0.0\nBank_Kbank =  0.0\nBank_krungsri =  0.0\nlevel_4 =  0.0\npage_num_1 =  0.0\nblock_num_1 =  0.0\nblock_num_2 =  0.0001620490462562957\nblock_num_3 =  0.0\nblock_num_4 =  0.00042225351481640574\nblock_num_5 =  0.0\nblock_num_6 =  0.0\nblock_num_7 =  0.00048757174576894384\nblock_num_8 =  0.0004931704512791607\nblock_num_9 =  0.00043624346930115437\nblock_num_10 =  0.026931869184332012\nblock_num_11 =  1.5159007681453553e-05\nblock_num_12 =  0.0\nblock_num_13 =  0.0\nblock_num_14 =  0.0\npar_num_1 =  0.0\npar_num_2 =  0.0\npar_num_3 =  0.0\npar_num_4 =  0.0\nline_num_1 =  0.0005403839624138528\nline_num_2 =  0.0\nline_num_3 =  0.0\nline_num_4 =  0.00022597518458415355\nline_num_5 =  0.0\nline_num_6 =  0.0\nline_num_7 =  0.0\nline_num_8 =  0.0\nrange_width =  5.655181002005445e-05\nrange_height =  0.2801754489326511\n"
          ]
        }
      ]
    },
    {
      "cell_type": "code",
      "metadata": {
        "colab": {
          "base_uri": "https://localhost:8080/"
        },
        "id": "Zze05cGBcSgF",
        "outputId": "d0063654-35bb-4f63-eb50-71cbdb73cbf2"
      },
      "source": [
        "X_train, X_test, y_train, y_test = train_test_split(dataX, dataY, test_size=0.2, random_state=42)\n",
        "\n",
        "parameters = {\n",
        "    'n_neighbors': [3,5,7,9,11,13,15,17,19,21,23,25,27,29,31,33,35,37,39,41,43], \n",
        "    'weights': ['uniform', 'distance'],\n",
        "    'algorithm': ['auto', 'ball_tree', 'kd_tree', 'brute']\n",
        "}\n",
        "\n",
        "KNN_Model = GridSearchCV(\n",
        "    KNeighborsClassifier(),\n",
        "    parameters,n_jobs=-1, cv=5).fit(X_train, y_train)\n",
        "print('KNN',KNN_Model.best_params_)\n",
        "print('KNN',KNN_Model.best_score_)"
      ],
      "execution_count": 50,
      "outputs": [
        {
          "output_type": "stream",
          "name": "stderr",
          "text": [
            "/Users/pcsishun/opt/anaconda3/lib/python3.8/site-packages/joblib/externals/loky/process_executor.py:688: UserWarning: A worker stopped while some jobs were given to the executor. This can be caused by a too short worker timeout or by a memory leak.\n",
            "  warnings.warn(\n",
            "KNN {'algorithm': 'auto', 'n_neighbors': 3, 'weights': 'distance'}\n",
            "KNN 0.983941846928554\n",
            "/Users/pcsishun/opt/anaconda3/lib/python3.8/site-packages/sklearn/model_selection/_search.py:765: DataConversionWarning: A column-vector y was passed when a 1d array was expected. Please change the shape of y to (n_samples, ), for example using ravel().\n",
            "  self.best_estimator_.fit(X, y, **fit_params)\n"
          ]
        }
      ]
    },
    {
      "cell_type": "code",
      "metadata": {
        "colab": {
          "base_uri": "https://localhost:8080/"
        },
        "id": "nY0HnUqRcp9G",
        "outputId": "a2928536-c097-46e3-f294-5b796045ed96"
      },
      "source": [
        "y_pred = KNN_Model.predict(X_test)\n",
        "print(classification_report(y_test,y_pred))"
      ],
      "execution_count": 51,
      "outputs": [
        {
          "output_type": "stream",
          "name": "stdout",
          "text": [
            "              precision    recall  f1-score   support\n\n     Account       1.00      0.75      0.86         8\n      Amount       0.97      0.99      0.98       172\n        Name       0.88      0.78      0.82         9\n      NotUse       0.99      0.99      0.99       466\n     RefCode       1.00      0.99      1.00       194\n      Timing       1.00      1.00      1.00       226\n\n    accuracy                           0.99      1075\n   macro avg       0.97      0.92      0.94      1075\nweighted avg       0.99      0.99      0.99      1075\n\n"
          ]
        }
      ]
    },
    {
      "cell_type": "markdown",
      "metadata": {
        "id": "jyudIAKpnhCh"
      },
      "source": [
        "_______________________________________________________________________"
      ]
    },
    {
      "cell_type": "code",
      "metadata": {
        "id": "llydK7MmnlZl"
      },
      "source": [
        "df = pd.read_csv('data_more_count.csv') \n",
        "df = pd.get_dummies(data= df, columns=['Bank','level','page_num','block_num','par_num','line_num'])\n",
        "range_width = df['left'] + df['width']\n",
        "range_height = df['top'] + df['height']\n",
        "df['range_width'] = range_width \n",
        "df['range_height'] = range_height\n",
        "df = df.drop(columns=['word'])\n",
        "\n",
        "dataX = df.drop(columns=['label'])\n",
        "dataY = df[['label']]\n",
        "\n",
        "X_train, X_test, y_train, y_test = train_test_split(dataX, dataY, test_size=0.2, random_state=42)"
      ],
      "execution_count": 52,
      "outputs": []
    },
    {
      "cell_type": "code",
      "metadata": {
        "id": "iNxAfWvwk-o0"
      },
      "source": [
        "parameters = {\n",
        "    'learning_rate' : ['adaptive'],\n",
        "    'hidden_layer_sizes' : [[75],[120],[149],[75,75],[120,120], [149,149]],\n",
        "    'activation' : ['relu','logistic'],\n",
        "    'solver': ['adam'],\n",
        "    'max_iter': [200,500,1000]\n",
        "}\n",
        "\n",
        "NN_model = GridSearchCV(\n",
        "    MLPClassifier(),\n",
        "    parameters,n_jobs=-1, cv=5).fit(X_train, y_train)\n",
        "\n",
        "print('NN',NN_model.best_params_)\n",
        "print('NN',NN_model.best_score_)"
      ],
      "execution_count": 53,
      "outputs": [
        {
          "output_type": "stream",
          "name": "stderr",
          "text": [
            "/Users/pcsishun/opt/anaconda3/lib/python3.8/site-packages/joblib/externals/loky/process_executor.py:688: UserWarning: A worker stopped while some jobs were given to the executor. This can be caused by a too short worker timeout or by a memory leak.\n",
            "  warnings.warn(\n",
            "/Users/pcsishun/opt/anaconda3/lib/python3.8/site-packages/sklearn/utils/validation.py:72: DataConversionWarning: A column-vector y was passed when a 1d array was expected. Please change the shape of y to (n_samples, ), for example using ravel().\n",
            "  return f(**kwargs)\n",
            "NN {'activation': 'logistic', 'hidden_layer_sizes': [120], 'learning_rate': 'adaptive', 'max_iter': 500, 'solver': 'adam'}\n",
            "NN 0.9916227630830875\n"
          ]
        }
      ]
    },
    {
      "cell_type": "code",
      "metadata": {
        "id": "eP78vItfm9g8"
      },
      "source": [
        "y_pred = NN_model.predict(X_test)\n",
        "print(classification_report(y_test,y_pred))"
      ],
      "execution_count": 54,
      "outputs": [
        {
          "output_type": "stream",
          "name": "stdout",
          "text": [
            "              precision    recall  f1-score   support\n\n     Account       1.00      0.88      0.93         8\n      Amount       1.00      1.00      1.00       172\n        Name       0.88      0.78      0.82         9\n      NotUse       1.00      0.99      0.99       466\n     RefCode       0.99      1.00      0.99       194\n      Timing       1.00      1.00      1.00       226\n\n    accuracy                           0.99      1075\n   macro avg       0.98      0.94      0.96      1075\nweighted avg       0.99      0.99      0.99      1075\n\n"
          ]
        }
      ]
    },
    {
      "cell_type": "markdown",
      "metadata": {
        "id": "URmbrWKUk7yc"
      },
      "source": [
        ""
      ]
    },
    {
      "cell_type": "markdown",
      "metadata": {
        "id": "kzlnrANEfe3V"
      },
      "source": [
        "### 1.1:Using data with more count per-word. with BB : train only Kbank.\n",
        "\n"
      ]
    },
    {
      "cell_type": "code",
      "metadata": {
        "colab": {
          "base_uri": "https://localhost:8080/"
        },
        "id": "CEjkp6OwfkEr",
        "outputId": "45627aa8-bffc-4c00-928c-6f8459aaed8d"
      },
      "source": [
        "df = pd.read_csv('data_more_count.csv') \n",
        " \n",
        "df = pd.get_dummies(data= df, columns=['level','page_num','block_num','par_num','line_num'])\n",
        "range_width = df['left'] + df['width']\n",
        "range_height = df['top'] + df['height']\n",
        "df['range_width'] = range_width \n",
        "df['range_height'] = range_height\n",
        "\n",
        "df_test = df[df.Bank == 'krungsri'] \n",
        "df = df[df.Bank== \"Kbank\"] \n",
        "df = df.drop(columns=['word','Bank'])\n",
        "df_test = df_test.drop(columns=['word','Bank'])\n",
        "\n",
        "print(df)\n",
        "print('\\n')\n",
        "print(df_test)"
      ],
      "execution_count": 55,
      "outputs": [
        {
          "output_type": "stream",
          "name": "stdout",
          "text": [
            "      left   top  width  height  CEng  Ctha  CNum  CSym   label  ฎ  ...  \\\n0       41    11    645      71     0    12     1     5  NotUse  0  ...   \n1       42    11    608      70     0    11     1     4  NotUse  0  ...   \n2       42    15    201      35     0    11     0     3  NotUse  0  ...   \n3       78    28    800     118     0    11     0     6  NotUse  0  ...   \n4       78    28    800     118     2    11     0     4  NotUse  0  ...   \n...    ...   ...    ...     ...   ...   ...   ...   ...     ... ..  ...   \n3732   628  1133    295      92     0     3     0     1  NotUse  0  ...   \n3733   781  1255     61      19     0     0     0     2  NotUse  0  ...   \n3734   852   975     71      91     2     0     0     0  NotUse  0  ...   \n3735   811   975     41     136     0     0     0     1  NotUse  0  ...   \n3736   923   930      4     153     0     0     0     1  NotUse  0  ...   \n\n      line_num_1  line_num_2  line_num_3  line_num_4  line_num_5  line_num_6  \\\n0              1           0           0           0           0           0   \n1              1           0           0           0           0           0   \n2              1           0           0           0           0           0   \n3              1           0           0           0           0           0   \n4              1           0           0           0           0           0   \n...          ...         ...         ...         ...         ...         ...   \n3732           1           0           0           0           0           0   \n3733           1           0           0           0           0           0   \n3734           1           0           0           0           0           0   \n3735           1           0           0           0           0           0   \n3736           1           0           0           0           0           0   \n\n      line_num_7  line_num_8  range_width  range_height  \n0              0           0          686            82  \n1              0           0          650            81  \n2              0           0          243            50  \n3              0           0          878           146  \n4              0           0          878           146  \n...          ...         ...          ...           ...  \n3732           0           0          923          1225  \n3733           0           0          842          1274  \n3734           0           0          923          1066  \n3735           0           0          852          1111  \n3736           0           0          927          1083  \n\n[3737 rows x 147 columns]\n\n\n      left   top  width  height  CEng  Ctha  CNum  CSym    label  ฎ  ...  \\\n3737    83    31     78      78     2     0     0     0   NotUse  0  ...   \n3738    83    31     78      78     2     0     0     0   NotUse  0  ...   \n3739    84    31     78      78     2     0     0     0   NotUse  0  ...   \n3740    84    31     78      78     2     0     0     0   NotUse  0  ...   \n3741    86   140    113      28     8     0     0     0   NotUse  0  ...   \n...    ...   ...    ...     ...   ...   ...   ...   ...      ... ..  ...   \n5367   313   844    288      26     4     0     9     0  RefCode  0  ...   \n5368   313   844    288      26     4     0     9     0  RefCode  0  ...   \n5369   313  1071    286      26     4     0     9     0  RefCode  0  ...   \n5370   313  1071    287      26     4     0     9     0  RefCode  0  ...   \n5371   313  1071    287      26     4     0     9     0  RefCode  0  ...   \n\n      line_num_1  line_num_2  line_num_3  line_num_4  line_num_5  line_num_6  \\\n3737           1           0           0           0           0           0   \n3738           1           0           0           0           0           0   \n3739           1           0           0           0           0           0   \n3740           1           0           0           0           0           0   \n3741           1           0           0           0           0           0   \n...          ...         ...         ...         ...         ...         ...   \n5367           1           0           0           0           0           0   \n5368           1           0           0           0           0           0   \n5369           1           0           0           0           0           0   \n5370           1           0           0           0           0           0   \n5371           1           0           0           0           0           0   \n\n      line_num_7  line_num_8  range_width  range_height  \n3737           0           0          161           109  \n3738           0           0          161           109  \n3739           0           0          162           109  \n3740           0           0          162           109  \n3741           0           0          199           168  \n...          ...         ...          ...           ...  \n5367           0           0          601           870  \n5368           0           0          601           870  \n5369           0           0          599          1097  \n5370           0           0          600          1097  \n5371           0           0          600          1097  \n\n[1635 rows x 147 columns]\n"
          ]
        }
      ]
    },
    {
      "cell_type": "code",
      "metadata": {
        "colab": {
          "base_uri": "https://localhost:8080/"
        },
        "id": "4inUHy8JhwIs",
        "outputId": "eb5f826d-41ef-480c-c4eb-910b597cc844"
      },
      "source": [
        "\n",
        "X_train = df.drop(columns= ['label'])\n",
        "y_train = df[['label']]\n",
        "\n",
        "\n",
        "X_test = df_test.drop(columns= ['label'])\n",
        "y_test = df_test[['label']]\n",
        "\n",
        "\n",
        "parameters = {\n",
        "    'n_neighbors': [3,5,7,9,11,13,15,17,19,21,23,25,27,29,31,33,35,37,39,41,43], \n",
        "    'weights': ['uniform', 'distance'],\n",
        "    'algorithm': ['auto', 'ball_tree', 'kd_tree', 'brute']\n",
        "}\n",
        "\n",
        "KNN_Model = GridSearchCV(\n",
        "    KNeighborsClassifier(),\n",
        "    parameters,n_jobs=-1, cv=5).fit(X_train, y_train)\n",
        "print(KNN_Model.best_params_)\n",
        "print(KNN_Model.best_score_)"
      ],
      "execution_count": 56,
      "outputs": [
        {
          "output_type": "stream",
          "name": "stderr",
          "text": [
            "/Users/pcsishun/opt/anaconda3/lib/python3.8/site-packages/joblib/externals/loky/process_executor.py:688: UserWarning: A worker stopped while some jobs were given to the executor. This can be caused by a too short worker timeout or by a memory leak.\n",
            "  warnings.warn(\n",
            "{'algorithm': 'auto', 'n_neighbors': 3, 'weights': 'distance'}\n",
            "0.9585482750968222\n",
            "/Users/pcsishun/opt/anaconda3/lib/python3.8/site-packages/sklearn/model_selection/_search.py:765: DataConversionWarning: A column-vector y was passed when a 1d array was expected. Please change the shape of y to (n_samples, ), for example using ravel().\n",
            "  self.best_estimator_.fit(X, y, **fit_params)\n"
          ]
        }
      ]
    },
    {
      "cell_type": "code",
      "metadata": {
        "colab": {
          "base_uri": "https://localhost:8080/"
        },
        "id": "7tUjd5g0idik",
        "outputId": "31bcd247-084f-4ca4-9731-e4516dbb8d79"
      },
      "source": [
        "y_pred = KNN_Model.predict(X_test)\n",
        "print(classification_report(y_test,y_pred))"
      ],
      "execution_count": 57,
      "outputs": [
        {
          "output_type": "stream",
          "name": "stderr",
          "text": [
            "/Users/pcsishun/opt/anaconda3/lib/python3.8/site-packages/sklearn/metrics/_classification.py:1221: UndefinedMetricWarning: Precision and F-score are ill-defined and being set to 0.0 in labels with no predicted samples. Use `zero_division` parameter to control this behavior.\n",
            "  _warn_prf(average, modifier, msg_start, len(result))\n",
            "              precision    recall  f1-score   support\n",
            "\n",
            "     Account       0.03      0.03      0.03        39\n",
            "      Amount       0.33      0.07      0.12       290\n",
            "        Name       0.00      0.00      0.00        25\n",
            "      NotUse       0.39      0.95      0.56       635\n",
            "     RefCode       0.00      0.00      0.00       262\n",
            "      Timing       0.00      0.00      0.00       384\n",
            "\n",
            "    accuracy                           0.38      1635\n",
            "   macro avg       0.13      0.17      0.12      1635\n",
            "weighted avg       0.21      0.38      0.24      1635\n",
            "\n"
          ]
        }
      ]
    },
    {
      "cell_type": "markdown",
      "metadata": {
        "id": "k-fqHWTsncVr"
      },
      "source": [
        "________________________________________________________________________________"
      ]
    },
    {
      "cell_type": "code",
      "metadata": {
        "id": "oHQxI1sonv5P"
      },
      "source": [
        "df = pd.read_csv('data_more_count.csv') \n",
        " \n",
        "df = pd.get_dummies(data= df, columns=['level','page_num','block_num','par_num','line_num'])\n",
        "range_width = df['left'] + df['width']\n",
        "range_height = df['top'] + df['height']\n",
        "df['range_width'] = range_width \n",
        "df['range_height'] = range_height\n",
        "\n",
        "df_test = df[df.Bank == 'krungsri'] \n",
        "df = df[df.Bank== \"Kbank\"] \n",
        "df = df.drop(columns=['word','Bank'])\n",
        "df_test = df_test.drop(columns=['word','Bank'])\n",
        "\n",
        "X_train = df.drop(columns= ['label'])\n",
        "y_train = df[['label']]\n",
        "\n",
        "\n",
        "X_test = df_test.drop(columns= ['label'])\n",
        "y_test = df_test[['label']]"
      ],
      "execution_count": 58,
      "outputs": [
        {
          "output_type": "stream",
          "name": "stdout",
          "text": [
            "      left   top  width  height  CEng  Ctha  CNum  CSym   label  ฎ  ...  \\\n0       41    11    645      71     0    12     1     5  NotUse  0  ...   \n1       42    11    608      70     0    11     1     4  NotUse  0  ...   \n2       42    15    201      35     0    11     0     3  NotUse  0  ...   \n3       78    28    800     118     0    11     0     6  NotUse  0  ...   \n4       78    28    800     118     2    11     0     4  NotUse  0  ...   \n...    ...   ...    ...     ...   ...   ...   ...   ...     ... ..  ...   \n3732   628  1133    295      92     0     3     0     1  NotUse  0  ...   \n3733   781  1255     61      19     0     0     0     2  NotUse  0  ...   \n3734   852   975     71      91     2     0     0     0  NotUse  0  ...   \n3735   811   975     41     136     0     0     0     1  NotUse  0  ...   \n3736   923   930      4     153     0     0     0     1  NotUse  0  ...   \n\n      line_num_1  line_num_2  line_num_3  line_num_4  line_num_5  line_num_6  \\\n0              1           0           0           0           0           0   \n1              1           0           0           0           0           0   \n2              1           0           0           0           0           0   \n3              1           0           0           0           0           0   \n4              1           0           0           0           0           0   \n...          ...         ...         ...         ...         ...         ...   \n3732           1           0           0           0           0           0   \n3733           1           0           0           0           0           0   \n3734           1           0           0           0           0           0   \n3735           1           0           0           0           0           0   \n3736           1           0           0           0           0           0   \n\n      line_num_7  line_num_8  range_width  range_height  \n0              0           0          686            82  \n1              0           0          650            81  \n2              0           0          243            50  \n3              0           0          878           146  \n4              0           0          878           146  \n...          ...         ...          ...           ...  \n3732           0           0          923          1225  \n3733           0           0          842          1274  \n3734           0           0          923          1066  \n3735           0           0          852          1111  \n3736           0           0          927          1083  \n\n[3737 rows x 147 columns]\n\n\n      left   top  width  height  CEng  Ctha  CNum  CSym    label  ฎ  ...  \\\n3737    83    31     78      78     2     0     0     0   NotUse  0  ...   \n3738    83    31     78      78     2     0     0     0   NotUse  0  ...   \n3739    84    31     78      78     2     0     0     0   NotUse  0  ...   \n3740    84    31     78      78     2     0     0     0   NotUse  0  ...   \n3741    86   140    113      28     8     0     0     0   NotUse  0  ...   \n...    ...   ...    ...     ...   ...   ...   ...   ...      ... ..  ...   \n5367   313   844    288      26     4     0     9     0  RefCode  0  ...   \n5368   313   844    288      26     4     0     9     0  RefCode  0  ...   \n5369   313  1071    286      26     4     0     9     0  RefCode  0  ...   \n5370   313  1071    287      26     4     0     9     0  RefCode  0  ...   \n5371   313  1071    287      26     4     0     9     0  RefCode  0  ...   \n\n      line_num_1  line_num_2  line_num_3  line_num_4  line_num_5  line_num_6  \\\n3737           1           0           0           0           0           0   \n3738           1           0           0           0           0           0   \n3739           1           0           0           0           0           0   \n3740           1           0           0           0           0           0   \n3741           1           0           0           0           0           0   \n...          ...         ...         ...         ...         ...         ...   \n5367           1           0           0           0           0           0   \n5368           1           0           0           0           0           0   \n5369           1           0           0           0           0           0   \n5370           1           0           0           0           0           0   \n5371           1           0           0           0           0           0   \n\n      line_num_7  line_num_8  range_width  range_height  \n3737           0           0          161           109  \n3738           0           0          161           109  \n3739           0           0          162           109  \n3740           0           0          162           109  \n3741           0           0          199           168  \n...          ...         ...          ...           ...  \n5367           0           0          601           870  \n5368           0           0          601           870  \n5369           0           0          599          1097  \n5370           0           0          600          1097  \n5371           0           0          600          1097  \n\n[1635 rows x 147 columns]\n"
          ]
        }
      ]
    },
    {
      "cell_type": "code",
      "metadata": {
        "id": "ZsGM280DnKkc"
      },
      "source": [
        "parameters = {\n",
        "    'learning_rate' : ['adaptive',],\n",
        "    'hidden_layer_sizes' : [[75],[120],[149],[75,75],[120,120], [149,149]],\n",
        "    'activation' : ['relu','logistic'],\n",
        "    'solver': ['adam'],\n",
        "    'max_iter': [200,500,1000]\n",
        "}\n",
        "\n",
        "NN_model = GridSearchCV(\n",
        "    MLPClassifier(),\n",
        "    parameters,n_jobs=-1, cv=5).fit(X_train, y_train)\n",
        "\n",
        "print('NN',NN_model.best_params_)\n",
        "print('NN',NN_model.best_score_)"
      ],
      "execution_count": 59,
      "outputs": [
        {
          "output_type": "stream",
          "name": "stderr",
          "text": [
            "/Users/pcsishun/opt/anaconda3/lib/python3.8/site-packages/joblib/externals/loky/process_executor.py:688: UserWarning: A worker stopped while some jobs were given to the executor. This can be caused by a too short worker timeout or by a memory leak.\n",
            "  warnings.warn(\n",
            "/Users/pcsishun/opt/anaconda3/lib/python3.8/site-packages/sklearn/utils/validation.py:72: DataConversionWarning: A column-vector y was passed when a 1d array was expected. Please change the shape of y to (n_samples, ), for example using ravel().\n",
            "  return f(**kwargs)\n",
            "NN {'activation': 'logistic', 'hidden_layer_sizes': [75], 'learning_rate': 'adaptive', 'max_iter': 200, 'solver': 'adam'}\n",
            "NN 0.9663033596059819\n",
            "/Users/pcsishun/opt/anaconda3/lib/python3.8/site-packages/sklearn/neural_network/_multilayer_perceptron.py:582: ConvergenceWarning: Stochastic Optimizer: Maximum iterations (200) reached and the optimization hasn't converged yet.\n",
            "  warnings.warn(\n"
          ]
        }
      ]
    },
    {
      "cell_type": "code",
      "metadata": {
        "id": "QvNrL8GfnLr0"
      },
      "source": [
        "y_pred = NN_model.predict(X_test)\n",
        "print(classification_report(y_test,y_pred))"
      ],
      "execution_count": 60,
      "outputs": [
        {
          "output_type": "stream",
          "name": "stdout",
          "text": [
            "              precision    recall  f1-score   support\n",
            "\n",
            "     Account       0.00      0.00      0.00        39\n",
            "      Amount       0.82      0.05      0.09       290\n",
            "        Name       0.00      0.00      0.00        25\n",
            "      NotUse       0.47      1.00      0.64       635\n",
            "     RefCode       0.00      0.00      0.00       262\n",
            "      Timing       0.00      0.00      0.00       384\n",
            "\n",
            "    accuracy                           0.40      1635\n",
            "   macro avg       0.22      0.17      0.12      1635\n",
            "weighted avg       0.33      0.40      0.27      1635\n",
            "\n",
            "/Users/pcsishun/opt/anaconda3/lib/python3.8/site-packages/sklearn/metrics/_classification.py:1221: UndefinedMetricWarning: Precision and F-score are ill-defined and being set to 0.0 in labels with no predicted samples. Use `zero_division` parameter to control this behavior.\n",
            "  _warn_prf(average, modifier, msg_start, len(result))\n"
          ]
        }
      ]
    },
    {
      "cell_type": "markdown",
      "metadata": {
        "id": "uUC93YbBdXr8"
      },
      "source": [
        "# 2:Using data with more count per-word. without BB and train all banking\n"
      ]
    },
    {
      "cell_type": "code",
      "metadata": {
        "colab": {
          "base_uri": "https://localhost:8080/"
        },
        "id": "4uXJNr3kdM5y",
        "outputId": "23599c4e-533d-4f96-f8d2-0773abdc7fce"
      },
      "source": [
        "df = pd.read_csv('data_more_count.csv') \n",
        "df = pd.get_dummies(data= df, columns=['Bank','level','page_num','block_num','par_num','line_num'])\n",
        "df = df.drop(columns=['word','left','top','width','height'])\n",
        "print(df)"
      ],
      "execution_count": 61,
      "outputs": [
        {
          "output_type": "stream",
          "name": "stdout",
          "text": [
            "      CEng  Ctha  CNum  CSym    label  ฎ  พ  ฑ  ธ  ร  ...  par_num_3  \\\n0        0    12     1     5   NotUse  0  0  0  0  1  ...          0   \n1        0    11     1     4   NotUse  0  0  0  0  1  ...          0   \n2        0    11     0     3   NotUse  0  0  0  0  1  ...          0   \n3        0    11     0     6   NotUse  0  0  0  0  1  ...          0   \n4        2    11     0     4   NotUse  0  0  0  0  1  ...          0   \n...    ...   ...   ...   ...      ... .. .. .. .. ..  ...        ...   \n5367     4     0     9     0  RefCode  0  0  0  0  0  ...          0   \n5368     4     0     9     0  RefCode  0  0  0  0  0  ...          0   \n5369     4     0     9     0  RefCode  0  0  0  0  0  ...          0   \n5370     4     0     9     0  RefCode  0  0  0  0  0  ...          0   \n5371     4     0     9     0  RefCode  0  0  0  0  0  ...          0   \n\n      par_num_4  line_num_1  line_num_2  line_num_3  line_num_4  line_num_5  \\\n0             0           1           0           0           0           0   \n1             0           1           0           0           0           0   \n2             0           1           0           0           0           0   \n3             0           1           0           0           0           0   \n4             0           1           0           0           0           0   \n...         ...         ...         ...         ...         ...         ...   \n5367          0           1           0           0           0           0   \n5368          0           1           0           0           0           0   \n5369          0           1           0           0           0           0   \n5370          0           1           0           0           0           0   \n5371          0           1           0           0           0           0   \n\n      line_num_6  line_num_7  line_num_8  \n0              0           0           0  \n1              0           0           0  \n2              0           0           0  \n3              0           0           0  \n4              0           0           0  \n...          ...         ...         ...  \n5367           0           0           0  \n5368           0           0           0  \n5369           0           0           0  \n5370           0           0           0  \n5371           0           0           0  \n\n[5372 rows x 143 columns]\n"
          ]
        }
      ]
    },
    {
      "cell_type": "code",
      "metadata": {
        "colab": {
          "base_uri": "https://localhost:8080/"
        },
        "id": "yqkfJ8TKdmtD",
        "outputId": "78c7cac1-e356-4e3c-ad90-e9a4c9199312"
      },
      "source": [
        "dataX = df.drop(columns=['label'])\n",
        "dataY = df[['label']]\n",
        "modelClf = tree.DecisionTreeClassifier().fit(dataX, dataY)\n",
        "\n",
        "array_important = []\n",
        "\n",
        "for i,j in enumerate(dataX):\n",
        "  score_f = modelClf.feature_importances_\n",
        "  print(j, '= ', score_f[i])\n",
        "\n"
      ],
      "execution_count": 62,
      "outputs": [
        {
          "output_type": "stream",
          "name": "stdout",
          "text": [
            "CEng =  0.013434321070679319\nCtha =  0.0013541955619386708\nCNum =  0.4218852099293518\nCSym =  0.031220203620254947\nฎ =  0.0\nพ =  2.503712890993208e-06\nฑ =  0.0\nธ =  0.0007149203917660643\nร =  0.0\nณ =  0.0\nน =  0.0006430338461695696\nย =  0.0\nญ =  0.0\nบ =  0.000529135747790797\nฐ =  0.0\nล =  0.0\nฟ =  0.0010428935076978458\nฤ =  0.0\nห =  0.0\nฆ =  0.0\nก =  0.0\nฏ =  0.0\nด =  0.0\nฌ =  0.0\nษ =  0.0\nส =  0.0\nศ =  0.0\nว =  0.0\nซ =  0.0\nง =  0.0\nผ =  0.0\nป =  0.0\nฉ =  0.0\nอ =  0.0\nฮ =  0.0\nท =  0.006229922853497518\nม =  0.0\nฒ =  0.0\nฬ =  0.0\nฝ =  0.0\nฦ =  0.0\nภ =  0.0\nถ =  0.0\nค =  8.949441823101083e-06\nต =  0.0\nจ =  9.406857738503046e-05\nข =  0.0\nช =  0.0\nq =  0.0\nw =  0.0\ne =  0.0\nr =  0.0\nt =  0.0\ny =  0.0\nu =  0.00045354492667782606\ni =  0.0\no =  0.0\np =  0.0\na =  0.0\ns =  0.0\nd =  0.0\nf =  0.0\ng =  0.0\nh =  0.0\nj =  0.0\nk =  0.0\nl =  0.0\nz =  0.0\nx =  0.00040819043401004346\nc =  0.0\nv =  0.0\nb =  0.0\nn =  0.0011841383578238798\nm =  0.0\n1 =  0.005347773651761788\n2 =  0.0025065900665293705\n3 =  0.0005996526982132265\n4 =  0.002626857035034882\n5 =  0.000985433525945128\n6 =  0.0018542409592554308\n7 =  8.818929129846615e-05\n8 =  0.00047268551973395865\n9 =  0.0019000975115775634\n0 =  0.040788379550892796\n! =  0.0\n@ =  0.0\n# =  0.0\n$ =  0.0\n% =  0.005804033825804912\n^ =  0.0\n& =  0.0\n* =  0.0\n( =  0.0\n) =  0.0\n- =  0.0020566717145657177\n_ =  0.0\n=' =  0.0\n+ =  0.000770374353897684\n{ =  0.0\n} =  0.0\n[ =  0.003345064083846068\n] =  0.0\n; =  0.0\n: =  0.24302680738688406\n< =  0.0\n> =  0.0\n. =  0.1902236772711852\n? =  0.0\n/ =  0.0\n฿ =  0.0\nblank =  0.0\nblankSpace =  0.0\nBank_Kbank =  0.0011284220682053739\nBank_krungsri =  0.0018801639729820131\nlevel_4 =  0.0\npage_num_1 =  0.0\nblock_num_1 =  0.0010097584412202462\nblock_num_2 =  0.0011195193839885007\nblock_num_3 =  0.001932556313838852\nblock_num_4 =  0.00017015345615233428\nblock_num_5 =  0.0004850411021415639\nblock_num_6 =  0.0016006356370671605\nblock_num_7 =  0.00010927803486983862\nblock_num_8 =  0.0003918846274399234\nblock_num_9 =  0.000701505726237799\nblock_num_10 =  0.00010491043773732951\nblock_num_11 =  1.361564535500037e-05\nblock_num_12 =  0.0\nblock_num_13 =  0.0\nblock_num_14 =  0.0\npar_num_1 =  0.0036917192585284417\npar_num_2 =  8.818929129846615e-05\npar_num_3 =  0.0\npar_num_4 =  0.0\nline_num_1 =  0.0027874497057231843\nline_num_2 =  8.81892912984662e-05\nline_num_3 =  0.0\nline_num_4 =  0.0006142146817402042\nline_num_5 =  0.0004810324979916336\nline_num_6 =  0.0\nline_num_7 =  0.0\nline_num_8 =  0.0\n"
          ]
        }
      ]
    },
    {
      "cell_type": "code",
      "metadata": {
        "colab": {
          "base_uri": "https://localhost:8080/"
        },
        "id": "T5o-RBrveJxZ",
        "outputId": "177dffc2-e329-4f83-8bbc-af902df6077f"
      },
      "source": [
        "X_train, X_test, y_train, y_test = train_test_split(dataX, dataY, test_size=0.2, random_state=42)\n",
        "\n",
        "parameters = {\n",
        "    'n_neighbors': [3,5,7,9,11,13,15,17,19,21,23,25,27,29,31,33,35,37,39,41,43], \n",
        "    'weights': ['uniform', 'distance'],\n",
        "    'algorithm': ['auto', 'ball_tree', 'kd_tree', 'brute']\n",
        "}\n",
        "\n",
        "KNN_Model = GridSearchCV(\n",
        "    KNeighborsClassifier(),\n",
        "    parameters,n_jobs=-1, cv=5).fit(X_train, y_train)\n",
        "print(KNN_Model.best_params_)\n",
        "print(KNN_Model.best_score_)\n",
        "\n"
      ],
      "execution_count": 63,
      "outputs": [
        {
          "output_type": "stream",
          "name": "stderr",
          "text": [
            "/Users/pcsishun/opt/anaconda3/lib/python3.8/site-packages/joblib/externals/loky/process_executor.py:688: UserWarning: A worker stopped while some jobs were given to the executor. This can be caused by a too short worker timeout or by a memory leak.\n",
            "  warnings.warn(\n",
            "{'algorithm': 'brute', 'n_neighbors': 3, 'weights': 'uniform'}\n",
            "0.9739356201099169\n",
            "/Users/pcsishun/opt/anaconda3/lib/python3.8/site-packages/sklearn/model_selection/_search.py:765: DataConversionWarning: A column-vector y was passed when a 1d array was expected. Please change the shape of y to (n_samples, ), for example using ravel().\n",
            "  self.best_estimator_.fit(X, y, **fit_params)\n"
          ]
        }
      ]
    },
    {
      "cell_type": "code",
      "metadata": {
        "colab": {
          "base_uri": "https://localhost:8080/"
        },
        "id": "4CHFz17teTbb",
        "outputId": "2316b399-78ec-462c-ab62-640798c835f2"
      },
      "source": [
        "y_pred = KNN_Model.predict(X_test)\n",
        "print(classification_report(y_test,y_pred))"
      ],
      "execution_count": 64,
      "outputs": [
        {
          "output_type": "stream",
          "name": "stdout",
          "text": [
            "              precision    recall  f1-score   support\n\n     Account       0.64      0.88      0.74         8\n      Amount       1.00      1.00      1.00       172\n        Name       0.62      0.56      0.59         9\n      NotUse       0.99      0.97      0.98       466\n     RefCode       0.96      0.99      0.97       194\n      Timing       0.99      1.00      1.00       226\n\n    accuracy                           0.98      1075\n   macro avg       0.87      0.90      0.88      1075\nweighted avg       0.98      0.98      0.98      1075\n\n"
          ]
        }
      ]
    },
    {
      "source": [
        "--MLP--"
      ],
      "cell_type": "markdown",
      "metadata": {}
    },
    {
      "cell_type": "code",
      "execution_count": 68,
      "metadata": {},
      "outputs": [],
      "source": [
        "df = pd.read_csv('data_more_count.csv') \n",
        "df = pd.get_dummies(data= df, columns=['Bank','level','page_num','block_num','par_num','line_num'])\n",
        "df = df.drop(columns=['word','left','top','width','height'])\n",
        "\n",
        "dataX = df.drop(columns=['label'])\n",
        "dataY = df[['label']]\n",
        "\n",
        "X_train, X_test, y_train, y_test = train_test_split(dataX, dataY, test_size=0.2, random_state=42)"
      ]
    },
    {
      "cell_type": "code",
      "execution_count": 69,
      "metadata": {},
      "outputs": [
        {
          "output_type": "stream",
          "name": "stderr",
          "text": [
            "/Users/pcsishun/opt/anaconda3/lib/python3.8/site-packages/sklearn/utils/validation.py:72: DataConversionWarning: A column-vector y was passed when a 1d array was expected. Please change the shape of y to (n_samples, ), for example using ravel().\n",
            "  return f(**kwargs)\n",
            "NN {'activation': 'relu', 'hidden_layer_sizes': [149], 'learning_rate': 'adaptive', 'max_iter': 200, 'solver': 'adam'}\n",
            "NN 0.9781249153964859\n"
          ]
        }
      ],
      "source": [
        "parameters = {\n",
        "    'learning_rate' : ['adaptive',],\n",
        "    'hidden_layer_sizes' : [[75],[120],[149],[75,75],[120,120], [149,149]],\n",
        "    'activation' : ['relu','logistic'],\n",
        "    'solver': ['adam'],\n",
        "    'max_iter': [200,500,1000]\n",
        "}\n",
        "\n",
        "NN_model = GridSearchCV(\n",
        "    MLPClassifier(),\n",
        "    parameters,n_jobs=-1, cv=5).fit(X_train, y_train)\n",
        "\n",
        "print('NN',NN_model.best_params_)\n",
        "print('NN',NN_model.best_score_)"
      ]
    },
    {
      "cell_type": "code",
      "execution_count": 70,
      "metadata": {},
      "outputs": [
        {
          "output_type": "stream",
          "name": "stdout",
          "text": [
            "              precision    recall  f1-score   support\n\n     Account       0.83      0.62      0.71         8\n      Amount       0.99      0.99      0.99       172\n        Name       0.80      0.89      0.84         9\n      NotUse       0.98      0.98      0.98       466\n     RefCode       0.98      0.98      0.98       194\n      Timing       1.00      1.00      1.00       226\n\n    accuracy                           0.99      1075\n   macro avg       0.93      0.91      0.92      1075\nweighted avg       0.99      0.99      0.98      1075\n\n"
          ]
        }
      ],
      "source": [
        "y_pred = NN_model.predict(X_test)\n",
        "print(classification_report(y_test,y_pred))"
      ]
    },
    {
      "cell_type": "markdown",
      "metadata": {
        "id": "9mTQXag4jDz_"
      },
      "source": [
        "## 2.1 Using data with more count per-word. without BB and train only kbank.\n",
        "\n"
      ]
    },
    {
      "cell_type": "code",
      "metadata": {
        "colab": {
          "base_uri": "https://localhost:8080/"
        },
        "id": "1-MwK-JGeTu_",
        "outputId": "096a487b-ab5a-48a5-c830-8002195ccd3c"
      },
      "source": [
        "df = pd.read_csv('data_more_count.csv') \n",
        "df = df.drop(columns=['word','left','top','width','height'])\n",
        "\n",
        "df = pd.get_dummies(data= df, columns=['level','page_num','block_num','par_num','line_num'])\n",
        "\n",
        "df_test = df[df.Bank == 'krungsri'] \n",
        "df = df[df.Bank== \"Kbank\"] \n",
        "df = df.drop(columns=['Bank'])\n",
        "df_test = df_test.drop(columns=['Bank'])\n",
        "\n",
        "print(df)\n",
        "print('\\n')\n",
        "print(df_test)"
      ],
      "execution_count": 65,
      "outputs": [
        {
          "output_type": "stream",
          "name": "stdout",
          "text": [
            "      CEng  Ctha  CNum  CSym   label  ฎ  พ  ฑ  ธ  ร  ...  par_num_3  \\\n0        0    12     1     5  NotUse  0  0  0  0  1  ...          0   \n1        0    11     1     4  NotUse  0  0  0  0  1  ...          0   \n2        0    11     0     3  NotUse  0  0  0  0  1  ...          0   \n3        0    11     0     6  NotUse  0  0  0  0  1  ...          0   \n4        2    11     0     4  NotUse  0  0  0  0  1  ...          0   \n...    ...   ...   ...   ...     ... .. .. .. .. ..  ...        ...   \n3732     0     3     0     1  NotUse  0  0  0  0  0  ...          0   \n3733     0     0     0     2  NotUse  0  0  0  0  0  ...          0   \n3734     2     0     0     0  NotUse  0  0  0  0  0  ...          0   \n3735     0     0     0     1  NotUse  0  0  0  0  0  ...          0   \n3736     0     0     0     1  NotUse  0  0  0  0  0  ...          0   \n\n      par_num_4  line_num_1  line_num_2  line_num_3  line_num_4  line_num_5  \\\n0             0           1           0           0           0           0   \n1             0           1           0           0           0           0   \n2             0           1           0           0           0           0   \n3             0           1           0           0           0           0   \n4             0           1           0           0           0           0   \n...         ...         ...         ...         ...         ...         ...   \n3732          0           1           0           0           0           0   \n3733          0           1           0           0           0           0   \n3734          0           1           0           0           0           0   \n3735          0           1           0           0           0           0   \n3736          0           1           0           0           0           0   \n\n      line_num_6  line_num_7  line_num_8  \n0              0           0           0  \n1              0           0           0  \n2              0           0           0  \n3              0           0           0  \n4              0           0           0  \n...          ...         ...         ...  \n3732           0           0           0  \n3733           0           0           0  \n3734           0           0           0  \n3735           0           0           0  \n3736           0           0           0  \n\n[3737 rows x 141 columns]\n\n\n      CEng  Ctha  CNum  CSym    label  ฎ  พ  ฑ  ธ  ร  ...  par_num_3  \\\n3737     2     0     0     0   NotUse  0  0  0  0  0  ...          0   \n3738     2     0     0     0   NotUse  0  0  0  0  0  ...          0   \n3739     2     0     0     0   NotUse  0  0  0  0  0  ...          0   \n3740     2     0     0     0   NotUse  0  0  0  0  0  ...          0   \n3741     8     0     0     0   NotUse  0  0  0  0  0  ...          0   \n...    ...   ...   ...   ...      ... .. .. .. .. ..  ...        ...   \n5367     4     0     9     0  RefCode  0  0  0  0  0  ...          0   \n5368     4     0     9     0  RefCode  0  0  0  0  0  ...          0   \n5369     4     0     9     0  RefCode  0  0  0  0  0  ...          0   \n5370     4     0     9     0  RefCode  0  0  0  0  0  ...          0   \n5371     4     0     9     0  RefCode  0  0  0  0  0  ...          0   \n\n      par_num_4  line_num_1  line_num_2  line_num_3  line_num_4  line_num_5  \\\n3737          0           1           0           0           0           0   \n3738          0           1           0           0           0           0   \n3739          0           1           0           0           0           0   \n3740          0           1           0           0           0           0   \n3741          0           1           0           0           0           0   \n...         ...         ...         ...         ...         ...         ...   \n5367          0           1           0           0           0           0   \n5368          0           1           0           0           0           0   \n5369          0           1           0           0           0           0   \n5370          0           1           0           0           0           0   \n5371          0           1           0           0           0           0   \n\n      line_num_6  line_num_7  line_num_8  \n3737           0           0           0  \n3738           0           0           0  \n3739           0           0           0  \n3740           0           0           0  \n3741           0           0           0  \n...          ...         ...         ...  \n5367           0           0           0  \n5368           0           0           0  \n5369           0           0           0  \n5370           0           0           0  \n5371           0           0           0  \n\n[1635 rows x 141 columns]\n"
          ]
        }
      ]
    },
    {
      "cell_type": "code",
      "metadata": {
        "colab": {
          "base_uri": "https://localhost:8080/"
        },
        "id": "PEU9-IphjZ2k",
        "outputId": "16d576f9-ccdf-4c79-8f2a-96aaee63b761"
      },
      "source": [
        "\n",
        "X_train = df.drop(columns= ['label'])\n",
        "y_train = df[['label']]\n",
        "\n",
        "\n",
        "X_test = df_test.drop(columns= ['label'])\n",
        "y_test = df_test[['label']]\n",
        "\n",
        "\n",
        "parameters = {\n",
        "    'n_neighbors': [3,5,7,9,11,13,15,17,19,21,23,25,27,29,31,33,35,37,39,41,43], \n",
        "    'weights': ['uniform', 'distance'],\n",
        "    'algorithm': ['auto', 'ball_tree', 'kd_tree', 'brute']\n",
        "}\n",
        "\n",
        "KNN_Model = GridSearchCV(\n",
        "    KNeighborsClassifier(),\n",
        "    parameters,n_jobs=-1, cv=5).fit(X_train, y_train)\n",
        "print(KNN_Model.best_params_)\n",
        "print(KNN_Model.best_score_)"
      ],
      "execution_count": 66,
      "outputs": [
        {
          "output_type": "stream",
          "name": "stderr",
          "text": [
            "/Users/pcsishun/opt/anaconda3/lib/python3.8/site-packages/joblib/externals/loky/process_executor.py:688: UserWarning: A worker stopped while some jobs were given to the executor. This can be caused by a too short worker timeout or by a memory leak.\n",
            "  warnings.warn(\n",
            "{'algorithm': 'auto', 'n_neighbors': 3, 'weights': 'distance'}\n",
            "0.9810027990750882\n",
            "/Users/pcsishun/opt/anaconda3/lib/python3.8/site-packages/sklearn/model_selection/_search.py:765: DataConversionWarning: A column-vector y was passed when a 1d array was expected. Please change the shape of y to (n_samples, ), for example using ravel().\n",
            "  self.best_estimator_.fit(X, y, **fit_params)\n"
          ]
        }
      ]
    },
    {
      "cell_type": "code",
      "metadata": {
        "colab": {
          "base_uri": "https://localhost:8080/"
        },
        "id": "MYwR-dVUjjQz",
        "outputId": "d5e86bef-22db-410a-e248-c943e5c36927"
      },
      "source": [
        "y_pred = KNN_Model.predict(X_test)\n",
        "print(classification_report(y_test,y_pred))"
      ],
      "execution_count": 67,
      "outputs": [
        {
          "output_type": "stream",
          "name": "stdout",
          "text": [
            "              precision    recall  f1-score   support\n\n     Account       0.00      0.00      0.00        39\n      Amount       0.94      0.43      0.59       290\n        Name       0.00      0.00      0.00        25\n      NotUse       0.55      0.94      0.70       635\n     RefCode       0.00      0.00      0.00       262\n      Timing       0.98      0.99      0.99       384\n\n    accuracy                           0.68      1635\n   macro avg       0.41      0.39      0.38      1635\nweighted avg       0.61      0.68      0.61      1635\n\n"
          ]
        }
      ]
    },
    {
      "source": [
        "_______________________MLP____________________________"
      ],
      "cell_type": "markdown",
      "metadata": {}
    },
    {
      "cell_type": "code",
      "execution_count": 71,
      "metadata": {},
      "outputs": [],
      "source": [
        "df = pd.read_csv('data_more_count.csv') \n",
        "df = df.drop(columns=['word','left','top','width','height'])\n",
        "\n",
        "df = pd.get_dummies(data= df, columns=['level','page_num','block_num','par_num','line_num'])\n",
        "\n",
        "df_test = df[df.Bank == 'krungsri'] \n",
        "df = df[df.Bank== \"Kbank\"] \n",
        "df = df.drop(columns=['Bank'])\n",
        "df_test = df_test.drop(columns=['Bank'])\n",
        "\n",
        "\n",
        "\n",
        "X_train = df.drop(columns= ['label'])\n",
        "y_train = df[['label']]\n",
        "\n",
        "\n",
        "X_test = df_test.drop(columns= ['label'])\n",
        "y_test = df_test[['label']]"
      ]
    },
    {
      "cell_type": "code",
      "execution_count": 72,
      "metadata": {},
      "outputs": [
        {
          "output_type": "stream",
          "name": "stderr",
          "text": [
            "/Users/pcsishun/opt/anaconda3/lib/python3.8/site-packages/sklearn/utils/validation.py:72: DataConversionWarning: A column-vector y was passed when a 1d array was expected. Please change the shape of y to (n_samples, ), for example using ravel().\n",
            "  return f(**kwargs)\n",
            "NN {'activation': 'relu', 'hidden_layer_sizes': [120], 'learning_rate': 'adaptive', 'max_iter': 500, 'solver': 'adam'}\n",
            "NN 0.9526555419539118\n"
          ]
        }
      ],
      "source": [
        "parameters = {\n",
        "    'learning_rate' : ['adaptive',],\n",
        "    'hidden_layer_sizes' : [[75],[120],[149],[75,75],[120,120], [149,149]],\n",
        "    'activation' : ['relu','logistic'],\n",
        "    'solver': ['adam'],\n",
        "    'max_iter': [200,500,1000]\n",
        "}\n",
        "\n",
        "NN_model = GridSearchCV(\n",
        "    MLPClassifier(),\n",
        "    parameters,n_jobs=-1, cv=5).fit(X_train, y_train)\n",
        "\n",
        "print('NN',NN_model.best_params_)\n",
        "print('NN',NN_model.best_score_)"
      ]
    },
    {
      "cell_type": "code",
      "execution_count": 73,
      "metadata": {},
      "outputs": [
        {
          "output_type": "stream",
          "name": "stdout",
          "text": [
            "              precision    recall  f1-score   support\n\n     Account       0.00      0.00      0.00        39\n      Amount       0.00      0.00      0.00       290\n        Name       0.00      0.00      0.00        25\n      NotUse       0.49      0.97      0.65       635\n     RefCode       0.00      0.00      0.00       262\n      Timing       1.00      0.91      0.95       384\n\n    accuracy                           0.59      1635\n   macro avg       0.25      0.31      0.27      1635\nweighted avg       0.42      0.59      0.48      1635\n\n"
          ]
        }
      ],
      "source": [
        "y_pred = NN_model.predict(X_test)\n",
        "print(classification_report(y_test,y_pred))"
      ]
    },
    {
      "cell_type": "code",
      "execution_count": null,
      "metadata": {},
      "outputs": [],
      "source": []
    }
  ]
}