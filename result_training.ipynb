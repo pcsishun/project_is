{
  "nbformat": 4,
  "nbformat_minor": 0,
  "metadata": {
    "colab": {
      "name": "Project_IS.ipynb",
      "provenance": [],
      "collapsed_sections": [],
      "toc_visible": true
    },
    "kernelspec": {
      "name": "python3",
      "display_name": "Python 3"
    },
    "language_info": {
      "name": "python"
    },
    "accelerator": "GPU"
  },
  "cells": [
    {
      "cell_type": "code",
      "metadata": {
        "id": "hKoGh4DXrVxq"
      },
      "source": [
        "import pandas as pd \n",
        "import numpy as np\n",
        "import seaborn as sns \n",
        "import matplotlib.pyplot as plt\n",
        "\n",
        "from sklearn.model_selection import train_test_split\n",
        "from sklearn import tree\n",
        "from sklearn.neighbors import KNeighborsClassifier\n",
        "from sklearn.neural_network import MLPClassifier\n",
        "from sklearn.model_selection import GridSearchCV\n",
        "\n",
        "from sklearn.preprocessing import MinMaxScaler\n",
        "from sklearn.metrics import classification_report\n",
        " \n"
      ],
      "execution_count": 46,
      "outputs": []
    },
    {
      "cell_type": "code",
      "metadata": {
        "colab": {
          "base_uri": "https://localhost:8080/",
          "height": 419
        },
        "id": "8q2egK18rfBQ",
        "outputId": "2e842109-9a6b-4385-a389-9abe867fa97f"
      },
      "source": [
        "# df = pd.read_csv('TrainingData.csv')\n",
        "df = pd.read_csv('TrainData_withoutWord.csv')\n",
        "# df = df.drop(columns=['word'])\n",
        "df = pd.get_dummies(data= df, columns=['Bank'])\n",
        "range_width = df['left'] + df['width']\n",
        "range_height = df['top'] + df['height']\n",
        "df['range_width'] = range_width \n",
        "df['range_height'] = range_height\n",
        "groupLabel = {'Account':'red', 'Amount':'blue', 'Name':'orange', 'NotUse':'gray', 'RefCode':'brown', 'Timing':'pink'}\n",
        "df"
      ],
      "execution_count": null,
      "outputs": [
        {
          "output_type": "execute_result",
          "data": {
            "text/html": [
              "<div>\n",
              "<style scoped>\n",
              "    .dataframe tbody tr th:only-of-type {\n",
              "        vertical-align: middle;\n",
              "    }\n",
              "\n",
              "    .dataframe tbody tr th {\n",
              "        vertical-align: top;\n",
              "    }\n",
              "\n",
              "    .dataframe thead th {\n",
              "        text-align: right;\n",
              "    }\n",
              "</style>\n",
              "<table border=\"1\" class=\"dataframe\">\n",
              "  <thead>\n",
              "    <tr style=\"text-align: right;\">\n",
              "      <th></th>\n",
              "      <th>level</th>\n",
              "      <th>page_num</th>\n",
              "      <th>block_num</th>\n",
              "      <th>par_num</th>\n",
              "      <th>line_num</th>\n",
              "      <th>left</th>\n",
              "      <th>top</th>\n",
              "      <th>width</th>\n",
              "      <th>height</th>\n",
              "      <th>CEng</th>\n",
              "      <th>Ctha</th>\n",
              "      <th>CNum</th>\n",
              "      <th>CSym</th>\n",
              "      <th>label</th>\n",
              "      <th>Bank_Kbank</th>\n",
              "      <th>Bank_krungsri</th>\n",
              "      <th>range_width</th>\n",
              "      <th>range_height</th>\n",
              "    </tr>\n",
              "  </thead>\n",
              "  <tbody>\n",
              "    <tr>\n",
              "      <th>0</th>\n",
              "      <td>4</td>\n",
              "      <td>1</td>\n",
              "      <td>1</td>\n",
              "      <td>1</td>\n",
              "      <td>1</td>\n",
              "      <td>41</td>\n",
              "      <td>11</td>\n",
              "      <td>645</td>\n",
              "      <td>71</td>\n",
              "      <td>0</td>\n",
              "      <td>12</td>\n",
              "      <td>1</td>\n",
              "      <td>5</td>\n",
              "      <td>NotUse</td>\n",
              "      <td>1</td>\n",
              "      <td>0</td>\n",
              "      <td>686</td>\n",
              "      <td>82</td>\n",
              "    </tr>\n",
              "    <tr>\n",
              "      <th>1</th>\n",
              "      <td>4</td>\n",
              "      <td>1</td>\n",
              "      <td>1</td>\n",
              "      <td>1</td>\n",
              "      <td>1</td>\n",
              "      <td>42</td>\n",
              "      <td>11</td>\n",
              "      <td>608</td>\n",
              "      <td>70</td>\n",
              "      <td>0</td>\n",
              "      <td>11</td>\n",
              "      <td>1</td>\n",
              "      <td>4</td>\n",
              "      <td>NotUse</td>\n",
              "      <td>1</td>\n",
              "      <td>0</td>\n",
              "      <td>650</td>\n",
              "      <td>81</td>\n",
              "    </tr>\n",
              "    <tr>\n",
              "      <th>2</th>\n",
              "      <td>4</td>\n",
              "      <td>1</td>\n",
              "      <td>1</td>\n",
              "      <td>1</td>\n",
              "      <td>1</td>\n",
              "      <td>42</td>\n",
              "      <td>15</td>\n",
              "      <td>201</td>\n",
              "      <td>35</td>\n",
              "      <td>0</td>\n",
              "      <td>11</td>\n",
              "      <td>0</td>\n",
              "      <td>3</td>\n",
              "      <td>NotUse</td>\n",
              "      <td>1</td>\n",
              "      <td>0</td>\n",
              "      <td>243</td>\n",
              "      <td>50</td>\n",
              "    </tr>\n",
              "    <tr>\n",
              "      <th>3</th>\n",
              "      <td>4</td>\n",
              "      <td>1</td>\n",
              "      <td>1</td>\n",
              "      <td>1</td>\n",
              "      <td>1</td>\n",
              "      <td>78</td>\n",
              "      <td>28</td>\n",
              "      <td>800</td>\n",
              "      <td>118</td>\n",
              "      <td>0</td>\n",
              "      <td>11</td>\n",
              "      <td>0</td>\n",
              "      <td>6</td>\n",
              "      <td>NotUse</td>\n",
              "      <td>1</td>\n",
              "      <td>0</td>\n",
              "      <td>878</td>\n",
              "      <td>146</td>\n",
              "    </tr>\n",
              "    <tr>\n",
              "      <th>4</th>\n",
              "      <td>4</td>\n",
              "      <td>1</td>\n",
              "      <td>1</td>\n",
              "      <td>1</td>\n",
              "      <td>1</td>\n",
              "      <td>78</td>\n",
              "      <td>28</td>\n",
              "      <td>800</td>\n",
              "      <td>118</td>\n",
              "      <td>2</td>\n",
              "      <td>11</td>\n",
              "      <td>0</td>\n",
              "      <td>4</td>\n",
              "      <td>NotUse</td>\n",
              "      <td>1</td>\n",
              "      <td>0</td>\n",
              "      <td>878</td>\n",
              "      <td>146</td>\n",
              "    </tr>\n",
              "    <tr>\n",
              "      <th>...</th>\n",
              "      <td>...</td>\n",
              "      <td>...</td>\n",
              "      <td>...</td>\n",
              "      <td>...</td>\n",
              "      <td>...</td>\n",
              "      <td>...</td>\n",
              "      <td>...</td>\n",
              "      <td>...</td>\n",
              "      <td>...</td>\n",
              "      <td>...</td>\n",
              "      <td>...</td>\n",
              "      <td>...</td>\n",
              "      <td>...</td>\n",
              "      <td>...</td>\n",
              "      <td>...</td>\n",
              "      <td>...</td>\n",
              "      <td>...</td>\n",
              "      <td>...</td>\n",
              "    </tr>\n",
              "    <tr>\n",
              "      <th>3378</th>\n",
              "      <td>4</td>\n",
              "      <td>1</td>\n",
              "      <td>13</td>\n",
              "      <td>1</td>\n",
              "      <td>1</td>\n",
              "      <td>313</td>\n",
              "      <td>844</td>\n",
              "      <td>287</td>\n",
              "      <td>26</td>\n",
              "      <td>0</td>\n",
              "      <td>4</td>\n",
              "      <td>9</td>\n",
              "      <td>0</td>\n",
              "      <td>RefCode</td>\n",
              "      <td>0</td>\n",
              "      <td>1</td>\n",
              "      <td>600</td>\n",
              "      <td>870</td>\n",
              "    </tr>\n",
              "    <tr>\n",
              "      <th>3379</th>\n",
              "      <td>4</td>\n",
              "      <td>1</td>\n",
              "      <td>13</td>\n",
              "      <td>1</td>\n",
              "      <td>1</td>\n",
              "      <td>313</td>\n",
              "      <td>844</td>\n",
              "      <td>287</td>\n",
              "      <td>26</td>\n",
              "      <td>4</td>\n",
              "      <td>0</td>\n",
              "      <td>9</td>\n",
              "      <td>0</td>\n",
              "      <td>RefCode</td>\n",
              "      <td>0</td>\n",
              "      <td>1</td>\n",
              "      <td>600</td>\n",
              "      <td>870</td>\n",
              "    </tr>\n",
              "    <tr>\n",
              "      <th>3380</th>\n",
              "      <td>4</td>\n",
              "      <td>1</td>\n",
              "      <td>13</td>\n",
              "      <td>1</td>\n",
              "      <td>1</td>\n",
              "      <td>313</td>\n",
              "      <td>844</td>\n",
              "      <td>288</td>\n",
              "      <td>26</td>\n",
              "      <td>4</td>\n",
              "      <td>0</td>\n",
              "      <td>9</td>\n",
              "      <td>0</td>\n",
              "      <td>RefCode</td>\n",
              "      <td>0</td>\n",
              "      <td>1</td>\n",
              "      <td>601</td>\n",
              "      <td>870</td>\n",
              "    </tr>\n",
              "    <tr>\n",
              "      <th>3381</th>\n",
              "      <td>4</td>\n",
              "      <td>1</td>\n",
              "      <td>13</td>\n",
              "      <td>1</td>\n",
              "      <td>1</td>\n",
              "      <td>313</td>\n",
              "      <td>1071</td>\n",
              "      <td>286</td>\n",
              "      <td>26</td>\n",
              "      <td>4</td>\n",
              "      <td>0</td>\n",
              "      <td>9</td>\n",
              "      <td>0</td>\n",
              "      <td>RefCode</td>\n",
              "      <td>0</td>\n",
              "      <td>1</td>\n",
              "      <td>599</td>\n",
              "      <td>1097</td>\n",
              "    </tr>\n",
              "    <tr>\n",
              "      <th>3382</th>\n",
              "      <td>4</td>\n",
              "      <td>1</td>\n",
              "      <td>14</td>\n",
              "      <td>1</td>\n",
              "      <td>1</td>\n",
              "      <td>313</td>\n",
              "      <td>1071</td>\n",
              "      <td>287</td>\n",
              "      <td>26</td>\n",
              "      <td>4</td>\n",
              "      <td>0</td>\n",
              "      <td>9</td>\n",
              "      <td>0</td>\n",
              "      <td>RefCode</td>\n",
              "      <td>0</td>\n",
              "      <td>1</td>\n",
              "      <td>600</td>\n",
              "      <td>1097</td>\n",
              "    </tr>\n",
              "  </tbody>\n",
              "</table>\n",
              "<p>3383 rows × 18 columns</p>\n",
              "</div>"
            ],
            "text/plain": [
              "      level  page_num  block_num  ...  Bank_krungsri  range_width  range_height\n",
              "0         4         1          1  ...              0          686            82\n",
              "1         4         1          1  ...              0          650            81\n",
              "2         4         1          1  ...              0          243            50\n",
              "3         4         1          1  ...              0          878           146\n",
              "4         4         1          1  ...              0          878           146\n",
              "...     ...       ...        ...  ...            ...          ...           ...\n",
              "3378      4         1         13  ...              1          600           870\n",
              "3379      4         1         13  ...              1          600           870\n",
              "3380      4         1         13  ...              1          601           870\n",
              "3381      4         1         13  ...              1          599          1097\n",
              "3382      4         1         14  ...              1          600          1097\n",
              "\n",
              "[3383 rows x 18 columns]"
            ]
          },
          "metadata": {},
          "execution_count": 14
        }
      ]
    },
    {
      "cell_type": "markdown",
      "metadata": {
        "id": "P81-zo4-zEJJ"
      },
      "source": [
        "feature important"
      ]
    },
    {
      "cell_type": "code",
      "metadata": {
        "id": "UGTzZpOiyjzw"
      },
      "source": [
        "dataX = df.drop(columns=['label'])\n",
        "dataY = df[['label']]\n",
        "modelClf = tree.DecisionTreeClassifier().fit(dataX, dataY)"
      ],
      "execution_count": null,
      "outputs": []
    },
    {
      "cell_type": "code",
      "metadata": {
        "colab": {
          "base_uri": "https://localhost:8080/"
        },
        "id": "Pxjecu2nzqwZ",
        "outputId": "39046bb2-7c19-4c89-e05b-7ad59b3025f8"
      },
      "source": [
        "array_important = []\n",
        "\n",
        "for i,j in enumerate(dataX):\n",
        "  score_f = modelClf.feature_importances_\n",
        "  print(j, '= ', score_f[i])\n",
        "\n"
      ],
      "execution_count": null,
      "outputs": [
        {
          "output_type": "stream",
          "text": [
            "level =  0.0\n",
            "page_num =  0.0\n",
            "block_num =  0.02118773134355502\n",
            "par_num =  0.0\n",
            "line_num =  0.006399432774422181\n",
            "left =  0.010401926530344616\n",
            "top =  0.04242137015242437\n",
            "width =  0.057730679781097874\n",
            "height =  0.03642353292029306\n",
            "CEng =  0.01020220535306122\n",
            "Ctha =  0.004040068380641141\n",
            "CNum =  0.43077235841476424\n",
            "CSym =  0.009120109163986923\n",
            "Bank_Kbank =  0.0\n",
            "Bank_krungsri =  0.0004277326325244548\n",
            "range_width =  0.010093113137679242\n",
            "range_height =  0.36077973941520575\n"
          ],
          "name": "stdout"
        }
      ]
    },
    {
      "cell_type": "code",
      "metadata": {
        "colab": {
          "base_uri": "https://localhost:8080/"
        },
        "id": "sCMgCvxo1nXi",
        "outputId": "a63c1cec-8300-4ced-949e-e939f834fe1e"
      },
      "source": [
        "X_train, X_test, y_train, y_test = train_test_split(dataX, dataY, test_size=0.2, random_state=42)\n",
        "\n",
        "parameters = {\n",
        "    'n_neighbors': [3,5,7,9,11,13,15,17,19,21,23,25,27,29,31,33,35,37,39,41,43], \n",
        "    'weights': ['uniform', 'distance'],\n",
        "    'algorithm': ['auto', 'ball_tree', 'kd_tree', 'brute']\n",
        "}\n",
        "\n",
        "KNN_Model = GridSearchCV(\n",
        "    KNeighborsClassifier(),\n",
        "    parameters,n_jobs=-1, cv=5).fit(X_train, y_train)\n",
        "print(KNN_Model.best_params_)\n",
        "print(KNN_Model.best_score_)"
      ],
      "execution_count": null,
      "outputs": [
        {
          "output_type": "stream",
          "text": [
            "{'algorithm': 'brute', 'n_neighbors': 3, 'weights': 'distance'}\n",
            "0.9715457912434948\n"
          ],
          "name": "stdout"
        },
        {
          "output_type": "stream",
          "text": [
            "/usr/local/lib/python3.7/dist-packages/sklearn/model_selection/_search.py:739: DataConversionWarning: A column-vector y was passed when a 1d array was expected. Please change the shape of y to (n_samples, ), for example using ravel().\n",
            "  self.best_estimator_.fit(X, y, **fit_params)\n"
          ],
          "name": "stderr"
        }
      ]
    },
    {
      "cell_type": "code",
      "metadata": {
        "colab": {
          "base_uri": "https://localhost:8080/"
        },
        "id": "hx0r6HL53sjJ",
        "outputId": "1e6b110e-3f51-4469-a781-4772ea7e89bb"
      },
      "source": [
        "y_pred = KNN_Model.predict(X_test)\n",
        "print(classification_report(y_test,y_pred))"
      ],
      "execution_count": null,
      "outputs": [
        {
          "output_type": "stream",
          "text": [
            "              precision    recall  f1-score   support\n",
            "\n",
            "     Account       1.00      1.00      1.00        15\n",
            "      Amount       0.91      0.97      0.94        62\n",
            "        Name       1.00      0.75      0.86         4\n",
            "      NotUse       0.99      0.98      0.98       428\n",
            "     RefCode       0.98      0.98      0.98        59\n",
            "      Timing       0.98      1.00      0.99       109\n",
            "\n",
            "    accuracy                           0.98       677\n",
            "   macro avg       0.98      0.95      0.96       677\n",
            "weighted avg       0.98      0.98      0.98       677\n",
            "\n"
          ],
          "name": "stdout"
        }
      ]
    },
    {
      "cell_type": "markdown",
      "metadata": {
        "id": "jVQmEJwREmLa"
      },
      "source": [
        "Using Normalize "
      ]
    },
    {
      "cell_type": "code",
      "metadata": {
        "id": "WMF4qXLT4iD9",
        "colab": {
          "base_uri": "https://localhost:8080/",
          "height": 419
        },
        "outputId": "cd7c95f2-23a0-49d2-9597-9e07afb0df09"
      },
      "source": [
        "# df = pd.read_csv('TrainingData.csv')\n",
        "df = pd.read_csv('TrainData_withoutWord.csv')\n",
        "# df = df.drop(columns=['word'])\n",
        "df = pd.get_dummies(data= df, columns=['Bank'])\n",
        "range_width = df['left'] + df['width']\n",
        "range_height = df['top'] + df['height']\n",
        "df['range_width'] = range_width \n",
        "df['range_height'] = range_height\n",
        "df"
      ],
      "execution_count": null,
      "outputs": [
        {
          "output_type": "execute_result",
          "data": {
            "text/html": [
              "<div>\n",
              "<style scoped>\n",
              "    .dataframe tbody tr th:only-of-type {\n",
              "        vertical-align: middle;\n",
              "    }\n",
              "\n",
              "    .dataframe tbody tr th {\n",
              "        vertical-align: top;\n",
              "    }\n",
              "\n",
              "    .dataframe thead th {\n",
              "        text-align: right;\n",
              "    }\n",
              "</style>\n",
              "<table border=\"1\" class=\"dataframe\">\n",
              "  <thead>\n",
              "    <tr style=\"text-align: right;\">\n",
              "      <th></th>\n",
              "      <th>level</th>\n",
              "      <th>page_num</th>\n",
              "      <th>block_num</th>\n",
              "      <th>par_num</th>\n",
              "      <th>line_num</th>\n",
              "      <th>left</th>\n",
              "      <th>top</th>\n",
              "      <th>width</th>\n",
              "      <th>height</th>\n",
              "      <th>CEng</th>\n",
              "      <th>Ctha</th>\n",
              "      <th>CNum</th>\n",
              "      <th>CSym</th>\n",
              "      <th>label</th>\n",
              "      <th>Bank_Kbank</th>\n",
              "      <th>Bank_krungsri</th>\n",
              "      <th>range_width</th>\n",
              "      <th>range_height</th>\n",
              "    </tr>\n",
              "  </thead>\n",
              "  <tbody>\n",
              "    <tr>\n",
              "      <th>0</th>\n",
              "      <td>4</td>\n",
              "      <td>1</td>\n",
              "      <td>1</td>\n",
              "      <td>1</td>\n",
              "      <td>1</td>\n",
              "      <td>41</td>\n",
              "      <td>11</td>\n",
              "      <td>645</td>\n",
              "      <td>71</td>\n",
              "      <td>0</td>\n",
              "      <td>12</td>\n",
              "      <td>1</td>\n",
              "      <td>5</td>\n",
              "      <td>NotUse</td>\n",
              "      <td>1</td>\n",
              "      <td>0</td>\n",
              "      <td>686</td>\n",
              "      <td>82</td>\n",
              "    </tr>\n",
              "    <tr>\n",
              "      <th>1</th>\n",
              "      <td>4</td>\n",
              "      <td>1</td>\n",
              "      <td>1</td>\n",
              "      <td>1</td>\n",
              "      <td>1</td>\n",
              "      <td>42</td>\n",
              "      <td>11</td>\n",
              "      <td>608</td>\n",
              "      <td>70</td>\n",
              "      <td>0</td>\n",
              "      <td>11</td>\n",
              "      <td>1</td>\n",
              "      <td>4</td>\n",
              "      <td>NotUse</td>\n",
              "      <td>1</td>\n",
              "      <td>0</td>\n",
              "      <td>650</td>\n",
              "      <td>81</td>\n",
              "    </tr>\n",
              "    <tr>\n",
              "      <th>2</th>\n",
              "      <td>4</td>\n",
              "      <td>1</td>\n",
              "      <td>1</td>\n",
              "      <td>1</td>\n",
              "      <td>1</td>\n",
              "      <td>42</td>\n",
              "      <td>15</td>\n",
              "      <td>201</td>\n",
              "      <td>35</td>\n",
              "      <td>0</td>\n",
              "      <td>11</td>\n",
              "      <td>0</td>\n",
              "      <td>3</td>\n",
              "      <td>NotUse</td>\n",
              "      <td>1</td>\n",
              "      <td>0</td>\n",
              "      <td>243</td>\n",
              "      <td>50</td>\n",
              "    </tr>\n",
              "    <tr>\n",
              "      <th>3</th>\n",
              "      <td>4</td>\n",
              "      <td>1</td>\n",
              "      <td>1</td>\n",
              "      <td>1</td>\n",
              "      <td>1</td>\n",
              "      <td>78</td>\n",
              "      <td>28</td>\n",
              "      <td>800</td>\n",
              "      <td>118</td>\n",
              "      <td>0</td>\n",
              "      <td>11</td>\n",
              "      <td>0</td>\n",
              "      <td>6</td>\n",
              "      <td>NotUse</td>\n",
              "      <td>1</td>\n",
              "      <td>0</td>\n",
              "      <td>878</td>\n",
              "      <td>146</td>\n",
              "    </tr>\n",
              "    <tr>\n",
              "      <th>4</th>\n",
              "      <td>4</td>\n",
              "      <td>1</td>\n",
              "      <td>1</td>\n",
              "      <td>1</td>\n",
              "      <td>1</td>\n",
              "      <td>78</td>\n",
              "      <td>28</td>\n",
              "      <td>800</td>\n",
              "      <td>118</td>\n",
              "      <td>2</td>\n",
              "      <td>11</td>\n",
              "      <td>0</td>\n",
              "      <td>4</td>\n",
              "      <td>NotUse</td>\n",
              "      <td>1</td>\n",
              "      <td>0</td>\n",
              "      <td>878</td>\n",
              "      <td>146</td>\n",
              "    </tr>\n",
              "    <tr>\n",
              "      <th>...</th>\n",
              "      <td>...</td>\n",
              "      <td>...</td>\n",
              "      <td>...</td>\n",
              "      <td>...</td>\n",
              "      <td>...</td>\n",
              "      <td>...</td>\n",
              "      <td>...</td>\n",
              "      <td>...</td>\n",
              "      <td>...</td>\n",
              "      <td>...</td>\n",
              "      <td>...</td>\n",
              "      <td>...</td>\n",
              "      <td>...</td>\n",
              "      <td>...</td>\n",
              "      <td>...</td>\n",
              "      <td>...</td>\n",
              "      <td>...</td>\n",
              "      <td>...</td>\n",
              "    </tr>\n",
              "    <tr>\n",
              "      <th>3378</th>\n",
              "      <td>4</td>\n",
              "      <td>1</td>\n",
              "      <td>13</td>\n",
              "      <td>1</td>\n",
              "      <td>1</td>\n",
              "      <td>313</td>\n",
              "      <td>844</td>\n",
              "      <td>287</td>\n",
              "      <td>26</td>\n",
              "      <td>0</td>\n",
              "      <td>4</td>\n",
              "      <td>9</td>\n",
              "      <td>0</td>\n",
              "      <td>RefCode</td>\n",
              "      <td>0</td>\n",
              "      <td>1</td>\n",
              "      <td>600</td>\n",
              "      <td>870</td>\n",
              "    </tr>\n",
              "    <tr>\n",
              "      <th>3379</th>\n",
              "      <td>4</td>\n",
              "      <td>1</td>\n",
              "      <td>13</td>\n",
              "      <td>1</td>\n",
              "      <td>1</td>\n",
              "      <td>313</td>\n",
              "      <td>844</td>\n",
              "      <td>287</td>\n",
              "      <td>26</td>\n",
              "      <td>4</td>\n",
              "      <td>0</td>\n",
              "      <td>9</td>\n",
              "      <td>0</td>\n",
              "      <td>RefCode</td>\n",
              "      <td>0</td>\n",
              "      <td>1</td>\n",
              "      <td>600</td>\n",
              "      <td>870</td>\n",
              "    </tr>\n",
              "    <tr>\n",
              "      <th>3380</th>\n",
              "      <td>4</td>\n",
              "      <td>1</td>\n",
              "      <td>13</td>\n",
              "      <td>1</td>\n",
              "      <td>1</td>\n",
              "      <td>313</td>\n",
              "      <td>844</td>\n",
              "      <td>288</td>\n",
              "      <td>26</td>\n",
              "      <td>4</td>\n",
              "      <td>0</td>\n",
              "      <td>9</td>\n",
              "      <td>0</td>\n",
              "      <td>RefCode</td>\n",
              "      <td>0</td>\n",
              "      <td>1</td>\n",
              "      <td>601</td>\n",
              "      <td>870</td>\n",
              "    </tr>\n",
              "    <tr>\n",
              "      <th>3381</th>\n",
              "      <td>4</td>\n",
              "      <td>1</td>\n",
              "      <td>13</td>\n",
              "      <td>1</td>\n",
              "      <td>1</td>\n",
              "      <td>313</td>\n",
              "      <td>1071</td>\n",
              "      <td>286</td>\n",
              "      <td>26</td>\n",
              "      <td>4</td>\n",
              "      <td>0</td>\n",
              "      <td>9</td>\n",
              "      <td>0</td>\n",
              "      <td>RefCode</td>\n",
              "      <td>0</td>\n",
              "      <td>1</td>\n",
              "      <td>599</td>\n",
              "      <td>1097</td>\n",
              "    </tr>\n",
              "    <tr>\n",
              "      <th>3382</th>\n",
              "      <td>4</td>\n",
              "      <td>1</td>\n",
              "      <td>14</td>\n",
              "      <td>1</td>\n",
              "      <td>1</td>\n",
              "      <td>313</td>\n",
              "      <td>1071</td>\n",
              "      <td>287</td>\n",
              "      <td>26</td>\n",
              "      <td>4</td>\n",
              "      <td>0</td>\n",
              "      <td>9</td>\n",
              "      <td>0</td>\n",
              "      <td>RefCode</td>\n",
              "      <td>0</td>\n",
              "      <td>1</td>\n",
              "      <td>600</td>\n",
              "      <td>1097</td>\n",
              "    </tr>\n",
              "  </tbody>\n",
              "</table>\n",
              "<p>3383 rows × 18 columns</p>\n",
              "</div>"
            ],
            "text/plain": [
              "      level  page_num  block_num  ...  Bank_krungsri  range_width  range_height\n",
              "0         4         1          1  ...              0          686            82\n",
              "1         4         1          1  ...              0          650            81\n",
              "2         4         1          1  ...              0          243            50\n",
              "3         4         1          1  ...              0          878           146\n",
              "4         4         1          1  ...              0          878           146\n",
              "...     ...       ...        ...  ...            ...          ...           ...\n",
              "3378      4         1         13  ...              1          600           870\n",
              "3379      4         1         13  ...              1          600           870\n",
              "3380      4         1         13  ...              1          601           870\n",
              "3381      4         1         13  ...              1          599          1097\n",
              "3382      4         1         14  ...              1          600          1097\n",
              "\n",
              "[3383 rows x 18 columns]"
            ]
          },
          "metadata": {},
          "execution_count": 24
        }
      ]
    },
    {
      "cell_type": "code",
      "metadata": {
        "id": "GzDU818EErOL"
      },
      "source": [
        "scaler = MinMaxScaler()\n",
        "df[['left', 'top', 'width', 'height', 'CEng', 'Ctha', 'CNum', 'CSym', 'range_width', 'range_height']] = scaler.fit_transform(df[['left', 'top', 'width', 'height', 'CEng', 'Ctha', 'CNum', 'CSym', 'range_width', 'range_height']])\n"
      ],
      "execution_count": null,
      "outputs": []
    },
    {
      "cell_type": "code",
      "metadata": {
        "colab": {
          "base_uri": "https://localhost:8080/",
          "height": 419
        },
        "id": "-qtfUEvzHA0z",
        "outputId": "9f15c67a-fcd8-4b63-f24a-f597987b6113"
      },
      "source": [
        "df"
      ],
      "execution_count": null,
      "outputs": [
        {
          "output_type": "execute_result",
          "data": {
            "text/html": [
              "<div>\n",
              "<style scoped>\n",
              "    .dataframe tbody tr th:only-of-type {\n",
              "        vertical-align: middle;\n",
              "    }\n",
              "\n",
              "    .dataframe tbody tr th {\n",
              "        vertical-align: top;\n",
              "    }\n",
              "\n",
              "    .dataframe thead th {\n",
              "        text-align: right;\n",
              "    }\n",
              "</style>\n",
              "<table border=\"1\" class=\"dataframe\">\n",
              "  <thead>\n",
              "    <tr style=\"text-align: right;\">\n",
              "      <th></th>\n",
              "      <th>level</th>\n",
              "      <th>page_num</th>\n",
              "      <th>block_num</th>\n",
              "      <th>par_num</th>\n",
              "      <th>line_num</th>\n",
              "      <th>left</th>\n",
              "      <th>top</th>\n",
              "      <th>width</th>\n",
              "      <th>height</th>\n",
              "      <th>CEng</th>\n",
              "      <th>Ctha</th>\n",
              "      <th>CNum</th>\n",
              "      <th>CSym</th>\n",
              "      <th>label</th>\n",
              "      <th>Bank_Kbank</th>\n",
              "      <th>Bank_krungsri</th>\n",
              "      <th>range_width</th>\n",
              "      <th>range_height</th>\n",
              "    </tr>\n",
              "  </thead>\n",
              "  <tbody>\n",
              "    <tr>\n",
              "      <th>0</th>\n",
              "      <td>4</td>\n",
              "      <td>1</td>\n",
              "      <td>1</td>\n",
              "      <td>1</td>\n",
              "      <td>1</td>\n",
              "      <td>0.027563</td>\n",
              "      <td>0.006540</td>\n",
              "      <td>0.734250</td>\n",
              "      <td>0.151844</td>\n",
              "      <td>0.000000</td>\n",
              "      <td>0.315789</td>\n",
              "      <td>0.047619</td>\n",
              "      <td>0.3125</td>\n",
              "      <td>NotUse</td>\n",
              "      <td>1</td>\n",
              "      <td>0</td>\n",
              "      <td>0.679310</td>\n",
              "      <td>0.019104</td>\n",
              "    </tr>\n",
              "    <tr>\n",
              "      <th>1</th>\n",
              "      <td>4</td>\n",
              "      <td>1</td>\n",
              "      <td>1</td>\n",
              "      <td>1</td>\n",
              "      <td>1</td>\n",
              "      <td>0.028666</td>\n",
              "      <td>0.006540</td>\n",
              "      <td>0.691867</td>\n",
              "      <td>0.149675</td>\n",
              "      <td>0.000000</td>\n",
              "      <td>0.289474</td>\n",
              "      <td>0.047619</td>\n",
              "      <td>0.2500</td>\n",
              "      <td>NotUse</td>\n",
              "      <td>1</td>\n",
              "      <td>0</td>\n",
              "      <td>0.637931</td>\n",
              "      <td>0.018507</td>\n",
              "    </tr>\n",
              "    <tr>\n",
              "      <th>2</th>\n",
              "      <td>4</td>\n",
              "      <td>1</td>\n",
              "      <td>1</td>\n",
              "      <td>1</td>\n",
              "      <td>1</td>\n",
              "      <td>0.028666</td>\n",
              "      <td>0.008918</td>\n",
              "      <td>0.225659</td>\n",
              "      <td>0.073753</td>\n",
              "      <td>0.000000</td>\n",
              "      <td>0.289474</td>\n",
              "      <td>0.000000</td>\n",
              "      <td>0.1875</td>\n",
              "      <td>NotUse</td>\n",
              "      <td>1</td>\n",
              "      <td>0</td>\n",
              "      <td>0.170115</td>\n",
              "      <td>0.000000</td>\n",
              "    </tr>\n",
              "    <tr>\n",
              "      <th>3</th>\n",
              "      <td>4</td>\n",
              "      <td>1</td>\n",
              "      <td>1</td>\n",
              "      <td>1</td>\n",
              "      <td>1</td>\n",
              "      <td>0.068357</td>\n",
              "      <td>0.016647</td>\n",
              "      <td>0.911798</td>\n",
              "      <td>0.253796</td>\n",
              "      <td>0.000000</td>\n",
              "      <td>0.289474</td>\n",
              "      <td>0.000000</td>\n",
              "      <td>0.3750</td>\n",
              "      <td>NotUse</td>\n",
              "      <td>1</td>\n",
              "      <td>0</td>\n",
              "      <td>0.900000</td>\n",
              "      <td>0.057313</td>\n",
              "    </tr>\n",
              "    <tr>\n",
              "      <th>4</th>\n",
              "      <td>4</td>\n",
              "      <td>1</td>\n",
              "      <td>1</td>\n",
              "      <td>1</td>\n",
              "      <td>1</td>\n",
              "      <td>0.068357</td>\n",
              "      <td>0.016647</td>\n",
              "      <td>0.911798</td>\n",
              "      <td>0.253796</td>\n",
              "      <td>0.086957</td>\n",
              "      <td>0.289474</td>\n",
              "      <td>0.000000</td>\n",
              "      <td>0.2500</td>\n",
              "      <td>NotUse</td>\n",
              "      <td>1</td>\n",
              "      <td>0</td>\n",
              "      <td>0.900000</td>\n",
              "      <td>0.057313</td>\n",
              "    </tr>\n",
              "    <tr>\n",
              "      <th>...</th>\n",
              "      <td>...</td>\n",
              "      <td>...</td>\n",
              "      <td>...</td>\n",
              "      <td>...</td>\n",
              "      <td>...</td>\n",
              "      <td>...</td>\n",
              "      <td>...</td>\n",
              "      <td>...</td>\n",
              "      <td>...</td>\n",
              "      <td>...</td>\n",
              "      <td>...</td>\n",
              "      <td>...</td>\n",
              "      <td>...</td>\n",
              "      <td>...</td>\n",
              "      <td>...</td>\n",
              "      <td>...</td>\n",
              "      <td>...</td>\n",
              "      <td>...</td>\n",
              "    </tr>\n",
              "    <tr>\n",
              "      <th>3378</th>\n",
              "      <td>4</td>\n",
              "      <td>1</td>\n",
              "      <td>13</td>\n",
              "      <td>1</td>\n",
              "      <td>1</td>\n",
              "      <td>0.327453</td>\n",
              "      <td>0.501784</td>\n",
              "      <td>0.324170</td>\n",
              "      <td>0.054230</td>\n",
              "      <td>0.000000</td>\n",
              "      <td>0.105263</td>\n",
              "      <td>0.428571</td>\n",
              "      <td>0.0000</td>\n",
              "      <td>RefCode</td>\n",
              "      <td>0</td>\n",
              "      <td>1</td>\n",
              "      <td>0.580460</td>\n",
              "      <td>0.489552</td>\n",
              "    </tr>\n",
              "    <tr>\n",
              "      <th>3379</th>\n",
              "      <td>4</td>\n",
              "      <td>1</td>\n",
              "      <td>13</td>\n",
              "      <td>1</td>\n",
              "      <td>1</td>\n",
              "      <td>0.327453</td>\n",
              "      <td>0.501784</td>\n",
              "      <td>0.324170</td>\n",
              "      <td>0.054230</td>\n",
              "      <td>0.173913</td>\n",
              "      <td>0.000000</td>\n",
              "      <td>0.428571</td>\n",
              "      <td>0.0000</td>\n",
              "      <td>RefCode</td>\n",
              "      <td>0</td>\n",
              "      <td>1</td>\n",
              "      <td>0.580460</td>\n",
              "      <td>0.489552</td>\n",
              "    </tr>\n",
              "    <tr>\n",
              "      <th>3380</th>\n",
              "      <td>4</td>\n",
              "      <td>1</td>\n",
              "      <td>13</td>\n",
              "      <td>1</td>\n",
              "      <td>1</td>\n",
              "      <td>0.327453</td>\n",
              "      <td>0.501784</td>\n",
              "      <td>0.325315</td>\n",
              "      <td>0.054230</td>\n",
              "      <td>0.173913</td>\n",
              "      <td>0.000000</td>\n",
              "      <td>0.428571</td>\n",
              "      <td>0.0000</td>\n",
              "      <td>RefCode</td>\n",
              "      <td>0</td>\n",
              "      <td>1</td>\n",
              "      <td>0.581609</td>\n",
              "      <td>0.489552</td>\n",
              "    </tr>\n",
              "    <tr>\n",
              "      <th>3381</th>\n",
              "      <td>4</td>\n",
              "      <td>1</td>\n",
              "      <td>13</td>\n",
              "      <td>1</td>\n",
              "      <td>1</td>\n",
              "      <td>0.327453</td>\n",
              "      <td>0.636742</td>\n",
              "      <td>0.323024</td>\n",
              "      <td>0.054230</td>\n",
              "      <td>0.173913</td>\n",
              "      <td>0.000000</td>\n",
              "      <td>0.428571</td>\n",
              "      <td>0.0000</td>\n",
              "      <td>RefCode</td>\n",
              "      <td>0</td>\n",
              "      <td>1</td>\n",
              "      <td>0.579310</td>\n",
              "      <td>0.625075</td>\n",
              "    </tr>\n",
              "    <tr>\n",
              "      <th>3382</th>\n",
              "      <td>4</td>\n",
              "      <td>1</td>\n",
              "      <td>14</td>\n",
              "      <td>1</td>\n",
              "      <td>1</td>\n",
              "      <td>0.327453</td>\n",
              "      <td>0.636742</td>\n",
              "      <td>0.324170</td>\n",
              "      <td>0.054230</td>\n",
              "      <td>0.173913</td>\n",
              "      <td>0.000000</td>\n",
              "      <td>0.428571</td>\n",
              "      <td>0.0000</td>\n",
              "      <td>RefCode</td>\n",
              "      <td>0</td>\n",
              "      <td>1</td>\n",
              "      <td>0.580460</td>\n",
              "      <td>0.625075</td>\n",
              "    </tr>\n",
              "  </tbody>\n",
              "</table>\n",
              "<p>3383 rows × 18 columns</p>\n",
              "</div>"
            ],
            "text/plain": [
              "      level  page_num  block_num  ...  Bank_krungsri  range_width  range_height\n",
              "0         4         1          1  ...              0     0.679310      0.019104\n",
              "1         4         1          1  ...              0     0.637931      0.018507\n",
              "2         4         1          1  ...              0     0.170115      0.000000\n",
              "3         4         1          1  ...              0     0.900000      0.057313\n",
              "4         4         1          1  ...              0     0.900000      0.057313\n",
              "...     ...       ...        ...  ...            ...          ...           ...\n",
              "3378      4         1         13  ...              1     0.580460      0.489552\n",
              "3379      4         1         13  ...              1     0.580460      0.489552\n",
              "3380      4         1         13  ...              1     0.581609      0.489552\n",
              "3381      4         1         13  ...              1     0.579310      0.625075\n",
              "3382      4         1         14  ...              1     0.580460      0.625075\n",
              "\n",
              "[3383 rows x 18 columns]"
            ]
          },
          "metadata": {},
          "execution_count": 26
        }
      ]
    },
    {
      "cell_type": "code",
      "metadata": {
        "colab": {
          "base_uri": "https://localhost:8080/"
        },
        "id": "eSLKJYYGEzvC",
        "outputId": "8642206e-fd31-4b07-8074-0d1282f76f6b"
      },
      "source": [
        "DataNorX = df.drop(columns=['label'])\n",
        "DataNorY = df[['label']]\n",
        "modelClf = tree.DecisionTreeClassifier().fit(DataNorX, DataNorY)\n",
        "\n",
        "array_important = []\n",
        "\n",
        "for i,j in enumerate(dataX):\n",
        "  score_f = modelClf.feature_importances_\n",
        "  print(j, '= ', score_f[i])\n",
        "\n"
      ],
      "execution_count": null,
      "outputs": [
        {
          "output_type": "stream",
          "text": [
            "level =  0.0\n",
            "page_num =  0.0\n",
            "block_num =  0.01978518840342461\n",
            "par_num =  0.0\n",
            "line_num =  0.0076157974481636005\n",
            "left =  0.006482884167536773\n",
            "top =  0.27810517874480056\n",
            "width =  0.05548089245690409\n",
            "height =  0.03538848968860005\n",
            "CEng =  0.01020220535306122\n",
            "Ctha =  0.0\n",
            "CNum =  0.4311417406532408\n",
            "CSym =  0.010765258826177786\n",
            "Bank_Kbank =  0.0\n",
            "Bank_krungsri =  0.0\n",
            "range_width =  0.009716690015201585\n",
            "range_height =  0.13531567424288904\n"
          ],
          "name": "stdout"
        }
      ]
    },
    {
      "cell_type": "code",
      "metadata": {
        "colab": {
          "base_uri": "https://localhost:8080/"
        },
        "id": "wELOeB6HHZ7G",
        "outputId": "ec1926d4-a158-4681-97dd-b0625d9b010a"
      },
      "source": [
        "X_trainNor, X_testNor, y_trainNor, y_testNor = train_test_split(DataNorX, DataNorY, test_size=0.2, random_state=42)\n",
        "\n",
        "parameters = {\n",
        "    'n_neighbors': [3,5,7,9,11,13,15,17,19,21,23,25,27,29,31,33,35,37,39,41,43], \n",
        "    'weights': ['uniform', 'distance'],\n",
        "    'algorithm': ['auto', 'ball_tree', 'kd_tree', 'brute']\n",
        "}\n",
        "\n",
        "KNN_Nor_Model = GridSearchCV(\n",
        "    KNeighborsClassifier(),\n",
        "    parameters,n_jobs=-1, cv=5).fit(X_trainNor, y_trainNor)\n",
        "print(KNN_Nor_Model.best_params_)\n",
        "print(KNN_Nor_Model.best_score_)"
      ],
      "execution_count": null,
      "outputs": [
        {
          "output_type": "stream",
          "text": [
            "{'algorithm': 'auto', 'n_neighbors': 3, 'weights': 'distance'}\n",
            "0.9316374624005019\n"
          ],
          "name": "stdout"
        },
        {
          "output_type": "stream",
          "text": [
            "/usr/local/lib/python3.7/dist-packages/sklearn/model_selection/_search.py:739: DataConversionWarning: A column-vector y was passed when a 1d array was expected. Please change the shape of y to (n_samples, ), for example using ravel().\n",
            "  self.best_estimator_.fit(X, y, **fit_params)\n"
          ],
          "name": "stderr"
        }
      ]
    },
    {
      "cell_type": "code",
      "metadata": {
        "colab": {
          "base_uri": "https://localhost:8080/"
        },
        "id": "5QKMGCc5HrEr",
        "outputId": "dd03b119-b771-494c-985d-96d8057d84b5"
      },
      "source": [
        "y_predNor = KNN_Nor_Model.predict(X_testNor)\n",
        "print(classification_report(y_testNor,y_predNor))"
      ],
      "execution_count": null,
      "outputs": [
        {
          "output_type": "stream",
          "text": [
            "              precision    recall  f1-score   support\n",
            "\n",
            "     Account       0.83      0.67      0.74        15\n",
            "      Amount       0.79      0.94      0.86        62\n",
            "        Name       0.75      0.75      0.75         4\n",
            "      NotUse       0.97      0.96      0.96       428\n",
            "     RefCode       0.98      0.92      0.95        59\n",
            "      Timing       0.99      1.00      1.00       109\n",
            "\n",
            "    accuracy                           0.95       677\n",
            "   macro avg       0.89      0.87      0.88       677\n",
            "weighted avg       0.95      0.95      0.95       677\n",
            "\n"
          ],
          "name": "stdout"
        }
      ]
    },
    {
      "cell_type": "markdown",
      "metadata": {
        "id": "qBDinsZXcTuT"
      },
      "source": [
        "# 1:Using data with more count per-word. with BB and train all banking\n",
        "\n",
        "---\n",
        "\n"
      ]
    },
    {
      "cell_type": "code",
      "metadata": {
        "id": "ErQksqWmHy8J",
        "colab": {
          "base_uri": "https://localhost:8080/"
        },
        "outputId": "eeaab3d8-957c-4eb4-99b5-8bbc3bab1ad4"
      },
      "source": [
        "df = pd.read_csv('data_more_count.csv') \n",
        "df = pd.get_dummies(data= df, columns=['Bank','level','page_num','block_num','par_num','line_num'])\n",
        "range_width = df['left'] + df['width']\n",
        "range_height = df['top'] + df['height']\n",
        "df['range_width'] = range_width \n",
        "df['range_height'] = range_height\n",
        "df = df.drop(columns=['word'])\n",
        "print(df)"
      ],
      "execution_count": 41,
      "outputs": [
        {
          "output_type": "stream",
          "text": [
            "      left   top  width  ...  line_num_8  range_width  range_height\n",
            "0       41    11    645  ...           0          686            82\n",
            "1       42    11    608  ...           0          650            81\n",
            "2       42    15    201  ...           0          243            50\n",
            "3       78    28    800  ...           0          878           146\n",
            "4       78    28    800  ...           0          878           146\n",
            "...    ...   ...    ...  ...         ...          ...           ...\n",
            "5367   313   844    288  ...           0          601           870\n",
            "5368   313   844    288  ...           0          601           870\n",
            "5369   313  1071    286  ...           0          599          1097\n",
            "5370   313  1071    287  ...           0          600          1097\n",
            "5371   313  1071    287  ...           0          600          1097\n",
            "\n",
            "[5372 rows x 149 columns]\n"
          ],
          "name": "stdout"
        }
      ]
    },
    {
      "cell_type": "code",
      "metadata": {
        "colab": {
          "base_uri": "https://localhost:8080/"
        },
        "id": "jXtXtO40bxYN",
        "outputId": "16966b8a-3f2c-4fcb-d814-1c5c66fdf49c"
      },
      "source": [
        "dataX = df.drop(columns=['label'])\n",
        "dataY = df[['label']]\n",
        "modelClf = tree.DecisionTreeClassifier().fit(dataX, dataY)\n",
        "\n",
        "array_important = []\n",
        "\n",
        "for i,j in enumerate(dataX):\n",
        "  score_f = modelClf.feature_importances_\n",
        "  print(j, '= ', score_f[i])\n",
        "\n"
      ],
      "execution_count": 42,
      "outputs": [
        {
          "output_type": "stream",
          "text": [
            "left =  0.004114346014343732\n",
            "top =  0.11555110087355142\n",
            "width =  0.004809417394668812\n",
            "height =  0.0\n",
            "CEng =  0.01510135036818529\n",
            "Ctha =  0.0\n",
            "CNum =  0.2703802732109742\n",
            "CSym =  0.01990956116410039\n",
            "ฎ =  0.0\n",
            "พ =  0.0\n",
            "ฑ =  0.0\n",
            "ธ =  0.0005165336546867715\n",
            "ร =  0.0\n",
            "ณ =  0.0\n",
            "น =  0.0\n",
            "ย =  0.003068952253622124\n",
            "ญ =  0.0\n",
            "บ =  0.00046183978183044394\n",
            "ฐ =  0.0\n",
            "ล =  0.0\n",
            "ฟ =  0.0\n",
            "ฤ =  0.0\n",
            "ห =  0.0\n",
            "ฆ =  0.0\n",
            "ก =  0.0\n",
            "ฏ =  0.0\n",
            "ด =  0.0\n",
            "ฌ =  0.0\n",
            "ษ =  0.0\n",
            "ส =  0.0\n",
            "ศ =  0.0\n",
            "ว =  0.0\n",
            "ซ =  0.0\n",
            "ง =  0.0\n",
            "ผ =  0.0\n",
            "ป =  0.0\n",
            "ฉ =  0.0\n",
            "อ =  0.0\n",
            "ฮ =  0.0\n",
            "ท =  0.0\n",
            "ม =  0.0\n",
            "ฒ =  0.0\n",
            "ฬ =  0.0\n",
            "ฝ =  0.0\n",
            "ฦ =  0.0\n",
            "ภ =  0.0\n",
            "ถ =  0.0\n",
            "ค =  0.0\n",
            "ต =  0.0\n",
            "จ =  0.0005094768810780725\n",
            "ข =  0.0\n",
            "ช =  0.0\n",
            "q =  0.0\n",
            "w =  0.0\n",
            "e =  0.0\n",
            "r =  0.0\n",
            "t =  0.0\n",
            "y =  0.0\n",
            "u =  0.0\n",
            "i =  0.000683045066628727\n",
            "o =  0.0\n",
            "p =  0.00052636993943092\n",
            "a =  0.0\n",
            "s =  0.0\n",
            "d =  0.0\n",
            "f =  0.0\n",
            "g =  0.0\n",
            "h =  0.0\n",
            "j =  0.0\n",
            "k =  0.0\n",
            "l =  0.0\n",
            "z =  0.0\n",
            "x =  0.0\n",
            "c =  0.0\n",
            "v =  0.0\n",
            "b =  0.0\n",
            "n =  0.005271902270313699\n",
            "m =  0.0\n",
            "1 =  0.0010205461721208954\n",
            "2 =  0.00039228635714303134\n",
            "3 =  0.00020744431396503706\n",
            "4 =  0.00022809230041421797\n",
            "5 =  0.0010213602576423567\n",
            "6 =  0.0\n",
            "7 =  0.0\n",
            "8 =  0.0006531734057316277\n",
            "9 =  0.001963505682658138\n",
            "0 =  0.041317995736589744\n",
            "! =  0.0\n",
            "@ =  0.0\n",
            "# =  0.0\n",
            "$ =  0.0\n",
            "% =  0.005733015643350133\n",
            "^ =  0.0\n",
            "& =  0.0\n",
            "* =  0.0\n",
            "( =  0.0\n",
            ") =  0.0\n",
            "- =  0.0009236795636608879\n",
            "_ =  0.0\n",
            "=' =  0.0\n",
            "+ =  0.0002276827836201618\n",
            "{ =  0.0\n",
            "} =  0.0\n",
            "[ =  0.0\n",
            "] =  0.0\n",
            "; =  0.0\n",
            ": =  4.3984741126708964e-05\n",
            "< =  0.0\n",
            "> =  0.0\n",
            ". =  0.1841162752022267\n",
            "? =  0.0\n",
            "/ =  0.0\n",
            "฿ =  0.0\n",
            "blank =  0.0\n",
            "blankSpace =  0.0\n",
            "Bank_Kbank =  0.0\n",
            "Bank_krungsri =  0.0\n",
            "level_4 =  0.0\n",
            "page_num_1 =  0.0\n",
            "block_num_1 =  0.0\n",
            "block_num_2 =  0.0001620490462562957\n",
            "block_num_3 =  0.0\n",
            "block_num_4 =  0.0\n",
            "block_num_5 =  0.0004901156868404713\n",
            "block_num_6 =  0.0\n",
            "block_num_7 =  0.00048757174576894384\n",
            "block_num_8 =  0.0004931704512791607\n",
            "block_num_9 =  0.0009054140413193831\n",
            "block_num_10 =  0.026931869184332012\n",
            "block_num_11 =  1.5159007681453553e-05\n",
            "block_num_12 =  0.0\n",
            "block_num_13 =  0.0\n",
            "block_num_14 =  0.0\n",
            "par_num_1 =  0.0\n",
            "par_num_2 =  8.796948225341787e-05\n",
            "par_num_3 =  0.0\n",
            "par_num_4 =  0.0\n",
            "line_num_1 =  0.00045241448016043495\n",
            "line_num_2 =  0.0\n",
            "line_num_3 =  0.0\n",
            "line_num_4 =  0.00022597518458415355\n",
            "line_num_5 =  0.0\n",
            "line_num_6 =  0.0\n",
            "line_num_7 =  0.0\n",
            "line_num_8 =  0.0\n",
            "range_width =  0.00872923246577085\n",
            "range_height =  0.2822658481900892\n"
          ],
          "name": "stdout"
        }
      ]
    },
    {
      "cell_type": "code",
      "metadata": {
        "colab": {
          "base_uri": "https://localhost:8080/"
        },
        "id": "Zze05cGBcSgF",
        "outputId": "d0063654-35bb-4f63-eb50-71cbdb73cbf2"
      },
      "source": [
        "X_train, X_test, y_train, y_test = train_test_split(dataX, dataY, test_size=0.2, random_state=42)\n",
        "\n",
        "parameters = {\n",
        "    'n_neighbors': [3,5,7,9,11,13,15,17,19,21,23,25,27,29,31,33,35,37,39,41,43], \n",
        "    'weights': ['uniform', 'distance'],\n",
        "    'algorithm': ['auto', 'ball_tree', 'kd_tree', 'brute']\n",
        "}\n",
        "\n",
        "KNN_Model = GridSearchCV(\n",
        "    KNeighborsClassifier(),\n",
        "    parameters,n_jobs=-1, cv=5).fit(X_train, y_train)\n",
        "print('KNN',KNN_Model.best_params_)\n",
        "print('KNN',KNN_Model.best_score_)"
      ],
      "execution_count": 43,
      "outputs": [
        {
          "output_type": "stream",
          "text": [
            "KNN {'algorithm': 'auto', 'n_neighbors': 3, 'weights': 'distance'}\n",
            "KNN 0.983941846928554\n"
          ],
          "name": "stdout"
        },
        {
          "output_type": "stream",
          "text": [
            "/usr/local/lib/python3.7/dist-packages/sklearn/model_selection/_search.py:739: DataConversionWarning: A column-vector y was passed when a 1d array was expected. Please change the shape of y to (n_samples, ), for example using ravel().\n",
            "  self.best_estimator_.fit(X, y, **fit_params)\n"
          ],
          "name": "stderr"
        }
      ]
    },
    {
      "cell_type": "code",
      "metadata": {
        "colab": {
          "base_uri": "https://localhost:8080/"
        },
        "id": "nY0HnUqRcp9G",
        "outputId": "a2928536-c097-46e3-f294-5b796045ed96"
      },
      "source": [
        "y_pred = KNN_Model.predict(X_test)\n",
        "print(classification_report(y_test,y_pred))"
      ],
      "execution_count": 44,
      "outputs": [
        {
          "output_type": "stream",
          "text": [
            "              precision    recall  f1-score   support\n",
            "\n",
            "     Account       1.00      0.75      0.86         8\n",
            "      Amount       0.97      0.99      0.98       172\n",
            "        Name       0.88      0.78      0.82         9\n",
            "      NotUse       0.99      0.99      0.99       466\n",
            "     RefCode       1.00      0.99      1.00       194\n",
            "      Timing       1.00      1.00      1.00       226\n",
            "\n",
            "    accuracy                           0.99      1075\n",
            "   macro avg       0.97      0.92      0.94      1075\n",
            "weighted avg       0.99      0.99      0.99      1075\n",
            "\n"
          ],
          "name": "stdout"
        }
      ]
    },
    {
      "cell_type": "markdown",
      "metadata": {
        "id": "jyudIAKpnhCh"
      },
      "source": [
        "_______________________________________________________________________"
      ]
    },
    {
      "cell_type": "code",
      "metadata": {
        "id": "llydK7MmnlZl"
      },
      "source": [
        "df = pd.read_csv('data_more_count.csv') \n",
        "df = pd.get_dummies(data= df, columns=['Bank','level','page_num','block_num','par_num','line_num'])\n",
        "range_width = df['left'] + df['width']\n",
        "range_height = df['top'] + df['height']\n",
        "df['range_width'] = range_width \n",
        "df['range_height'] = range_height\n",
        "df = df.drop(columns=['word'])\n",
        "\n",
        "dataX = df.drop(columns=['label'])\n",
        "dataY = df[['label']]\n",
        "\n",
        "X_train, X_test, y_train, y_test = train_test_split(dataX, dataY, test_size=0.2, random_state=42)"
      ],
      "execution_count": 47,
      "outputs": []
    },
    {
      "cell_type": "code",
      "metadata": {
        "id": "iNxAfWvwk-o0"
      },
      "source": [
        "parameters = {\n",
        "    'learning_rate' : ['constant','adaptive','invscaling'],\n",
        "    'hidden_layer_sizes' : [[75],[120],[149],[75,75],[120,120], [149,149]],\n",
        "    'activation' : ['tanh','relu','logistic','identity'],\n",
        "    'solver': ['lbfgs','sgd','adam'],\n",
        "    'max_iter': [200,500,1000,1500]\n",
        "}\n",
        "\n",
        "NN_model = GridSearchCV(\n",
        "    MLPClassifier(),\n",
        "    parameters,n_jobs=-1, cv=5).fit(X_train, y_train)\n",
        "\n",
        "print('NN',NN_model.best_params_)\n",
        "print('NN',NN_model.best_score_)"
      ],
      "execution_count": null,
      "outputs": []
    },
    {
      "cell_type": "code",
      "metadata": {
        "id": "eP78vItfm9g8"
      },
      "source": [
        "y_pred = NN_model.predict(X_test)\n",
        "print(classification_report(y_test,y_pred))"
      ],
      "execution_count": null,
      "outputs": []
    },
    {
      "cell_type": "markdown",
      "metadata": {
        "id": "URmbrWKUk7yc"
      },
      "source": [
        ""
      ]
    },
    {
      "cell_type": "markdown",
      "metadata": {
        "id": "kzlnrANEfe3V"
      },
      "source": [
        "### 1.1:Using data with more count per-word. with BB and train all banking: train only Kbank.\n",
        "\n"
      ]
    },
    {
      "cell_type": "code",
      "metadata": {
        "colab": {
          "base_uri": "https://localhost:8080/"
        },
        "id": "CEjkp6OwfkEr",
        "outputId": "45627aa8-bffc-4c00-928c-6f8459aaed8d"
      },
      "source": [
        "df = pd.read_csv('data_more_count.csv') \n",
        " \n",
        "df = pd.get_dummies(data= df, columns=['level','page_num','block_num','par_num','line_num'])\n",
        "range_width = df['left'] + df['width']\n",
        "range_height = df['top'] + df['height']\n",
        "df['range_width'] = range_width \n",
        "df['range_height'] = range_height\n",
        "\n",
        "df_test = df[df.Bank == 'krungsri'] \n",
        "df = df[df.Bank== \"Kbank\"] \n",
        "df = df.drop(columns=['word','Bank'])\n",
        "df_test = df_test.drop(columns=['word','Bank'])\n",
        "\n",
        "print(df)\n",
        "print('\\n')\n",
        "print(df_test)"
      ],
      "execution_count": 33,
      "outputs": [
        {
          "output_type": "stream",
          "text": [
            "      left   top  width  ...  line_num_8  range_width  range_height\n",
            "0       41    11    645  ...           0          686            82\n",
            "1       42    11    608  ...           0          650            81\n",
            "2       42    15    201  ...           0          243            50\n",
            "3       78    28    800  ...           0          878           146\n",
            "4       78    28    800  ...           0          878           146\n",
            "...    ...   ...    ...  ...         ...          ...           ...\n",
            "3732   628  1133    295  ...           0          923          1225\n",
            "3733   781  1255     61  ...           0          842          1274\n",
            "3734   852   975     71  ...           0          923          1066\n",
            "3735   811   975     41  ...           0          852          1111\n",
            "3736   923   930      4  ...           0          927          1083\n",
            "\n",
            "[3737 rows x 147 columns]\n",
            "\n",
            "\n",
            "      left   top  width  ...  line_num_8  range_width  range_height\n",
            "3737    83    31     78  ...           0          161           109\n",
            "3738    83    31     78  ...           0          161           109\n",
            "3739    84    31     78  ...           0          162           109\n",
            "3740    84    31     78  ...           0          162           109\n",
            "3741    86   140    113  ...           0          199           168\n",
            "...    ...   ...    ...  ...         ...          ...           ...\n",
            "5367   313   844    288  ...           0          601           870\n",
            "5368   313   844    288  ...           0          601           870\n",
            "5369   313  1071    286  ...           0          599          1097\n",
            "5370   313  1071    287  ...           0          600          1097\n",
            "5371   313  1071    287  ...           0          600          1097\n",
            "\n",
            "[1635 rows x 147 columns]\n"
          ],
          "name": "stdout"
        }
      ]
    },
    {
      "cell_type": "code",
      "metadata": {
        "colab": {
          "base_uri": "https://localhost:8080/"
        },
        "id": "4inUHy8JhwIs",
        "outputId": "eb5f826d-41ef-480c-c4eb-910b597cc844"
      },
      "source": [
        "\n",
        "X_train = df.drop(columns= ['label'])\n",
        "y_train = df[['label']]\n",
        "\n",
        "\n",
        "X_test = df_test.drop(columns= ['label'])\n",
        "y_test = df_test[['label']]\n",
        "\n",
        "\n",
        "parameters = {\n",
        "    'n_neighbors': [3,5,7,9,11,13,15,17,19,21,23,25,27,29,31,33,35,37,39,41,43], \n",
        "    'weights': ['uniform', 'distance'],\n",
        "    'algorithm': ['auto', 'ball_tree', 'kd_tree', 'brute']\n",
        "}\n",
        "\n",
        "KNN_Model = GridSearchCV(\n",
        "    KNeighborsClassifier(),\n",
        "    parameters,n_jobs=-1, cv=5).fit(X_train, y_train)\n",
        "print(KNN_Model.best_params_)\n",
        "print(KNN_Model.best_score_)"
      ],
      "execution_count": 34,
      "outputs": [
        {
          "output_type": "stream",
          "text": [
            "{'algorithm': 'auto', 'n_neighbors': 3, 'weights': 'distance'}\n",
            "0.9585482750968222\n"
          ],
          "name": "stdout"
        },
        {
          "output_type": "stream",
          "text": [
            "/usr/local/lib/python3.7/dist-packages/sklearn/model_selection/_search.py:739: DataConversionWarning: A column-vector y was passed when a 1d array was expected. Please change the shape of y to (n_samples, ), for example using ravel().\n",
            "  self.best_estimator_.fit(X, y, **fit_params)\n"
          ],
          "name": "stderr"
        }
      ]
    },
    {
      "cell_type": "code",
      "metadata": {
        "colab": {
          "base_uri": "https://localhost:8080/"
        },
        "id": "7tUjd5g0idik",
        "outputId": "31bcd247-084f-4ca4-9731-e4516dbb8d79"
      },
      "source": [
        "y_pred = KNN_Model.predict(X_test)\n",
        "print(classification_report(y_test,y_pred))"
      ],
      "execution_count": 35,
      "outputs": [
        {
          "output_type": "stream",
          "text": [
            "/usr/local/lib/python3.7/dist-packages/sklearn/metrics/_classification.py:1272: UndefinedMetricWarning: Precision and F-score are ill-defined and being set to 0.0 in labels with no predicted samples. Use `zero_division` parameter to control this behavior.\n",
            "  _warn_prf(average, modifier, msg_start, len(result))\n"
          ],
          "name": "stderr"
        },
        {
          "output_type": "stream",
          "text": [
            "              precision    recall  f1-score   support\n",
            "\n",
            "     Account       0.03      0.03      0.03        39\n",
            "      Amount       0.33      0.07      0.12       290\n",
            "        Name       0.00      0.00      0.00        25\n",
            "      NotUse       0.39      0.95      0.56       635\n",
            "     RefCode       0.00      0.00      0.00       262\n",
            "      Timing       0.00      0.00      0.00       384\n",
            "\n",
            "    accuracy                           0.38      1635\n",
            "   macro avg       0.13      0.17      0.12      1635\n",
            "weighted avg       0.21      0.38      0.24      1635\n",
            "\n"
          ],
          "name": "stdout"
        }
      ]
    },
    {
      "cell_type": "markdown",
      "metadata": {
        "id": "k-fqHWTsncVr"
      },
      "source": [
        "________________________________________________________________________________"
      ]
    },
    {
      "cell_type": "code",
      "metadata": {
        "id": "oHQxI1sonv5P"
      },
      "source": [
        "df = pd.read_csv('data_more_count.csv') \n",
        " \n",
        "df = pd.get_dummies(data= df, columns=['level','page_num','block_num','par_num','line_num'])\n",
        "range_width = df['left'] + df['width']\n",
        "range_height = df['top'] + df['height']\n",
        "df['range_width'] = range_width \n",
        "df['range_height'] = range_height\n",
        "\n",
        "df_test = df[df.Bank == 'krungsri'] \n",
        "df = df[df.Bank== \"Kbank\"] \n",
        "df = df.drop(columns=['word','Bank'])\n",
        "df_test = df_test.drop(columns=['word','Bank'])\n",
        "\n",
        "print(df)\n",
        "print('\\n')\n",
        "print(df_test)\n",
        "\n",
        "\n",
        "X_train = df.drop(columns= ['label'])\n",
        "y_train = df[['label']]\n",
        "\n",
        "\n",
        "X_test = df_test.drop(columns= ['label'])\n",
        "y_test = df_test[['label']]"
      ],
      "execution_count": null,
      "outputs": []
    },
    {
      "cell_type": "code",
      "metadata": {
        "id": "ZsGM280DnKkc"
      },
      "source": [
        "parameters = {\n",
        "    'learning_rate' : ['constant','adaptive','invscaling'],\n",
        "    'hidden_layer_sizes' : [[75],[120],[149],[75,75],[120,120], [149,149]],\n",
        "    'activation' : ['tanh','relu','logistic','identity'],\n",
        "    'solver': ['lbfgs','sgd','adam'],\n",
        "    'max_iter': [200,500,1000,1500]\n",
        "}\n",
        "\n",
        "NN_model = GridSearchCV(\n",
        "    MLPClassifier(),\n",
        "    parameters,n_jobs=-1, cv=5).fit(X_train, y_train)\n",
        "\n",
        "print('NN',NN_model.best_params_)\n",
        "print('NN',NN_model.best_score_)"
      ],
      "execution_count": null,
      "outputs": []
    },
    {
      "cell_type": "code",
      "metadata": {
        "id": "QvNrL8GfnLr0"
      },
      "source": [
        "y_pred = NN_model.predict(X_test)\n",
        "print(classification_report(y_test,y_pred))"
      ],
      "execution_count": null,
      "outputs": []
    },
    {
      "cell_type": "markdown",
      "metadata": {
        "id": "uUC93YbBdXr8"
      },
      "source": [
        "# 2:Using data with more count per-word. without BB and train all banking\n"
      ]
    },
    {
      "cell_type": "code",
      "metadata": {
        "colab": {
          "base_uri": "https://localhost:8080/"
        },
        "id": "4uXJNr3kdM5y",
        "outputId": "23599c4e-533d-4f96-f8d2-0773abdc7fce"
      },
      "source": [
        "df = pd.read_csv('data_more_count.csv') \n",
        "df = pd.get_dummies(data= df, columns=['Bank','level','page_num','block_num','par_num','line_num'])\n",
        "df = df.drop(columns=['word','left','top','width','height'])\n",
        "print(df)"
      ],
      "execution_count": 17,
      "outputs": [
        {
          "output_type": "stream",
          "text": [
            "      CEng  Ctha  CNum  CSym  ... line_num_5  line_num_6  line_num_7  line_num_8\n",
            "0        0    12     1     5  ...          0           0           0           0\n",
            "1        0    11     1     4  ...          0           0           0           0\n",
            "2        0    11     0     3  ...          0           0           0           0\n",
            "3        0    11     0     6  ...          0           0           0           0\n",
            "4        2    11     0     4  ...          0           0           0           0\n",
            "...    ...   ...   ...   ...  ...        ...         ...         ...         ...\n",
            "5367     4     0     9     0  ...          0           0           0           0\n",
            "5368     4     0     9     0  ...          0           0           0           0\n",
            "5369     4     0     9     0  ...          0           0           0           0\n",
            "5370     4     0     9     0  ...          0           0           0           0\n",
            "5371     4     0     9     0  ...          0           0           0           0\n",
            "\n",
            "[5372 rows x 143 columns]\n"
          ],
          "name": "stdout"
        }
      ]
    },
    {
      "cell_type": "code",
      "metadata": {
        "colab": {
          "base_uri": "https://localhost:8080/"
        },
        "id": "yqkfJ8TKdmtD",
        "outputId": "78c7cac1-e356-4e3c-ad90-e9a4c9199312"
      },
      "source": [
        "dataX = df.drop(columns=['label'])\n",
        "dataY = df[['label']]\n",
        "modelClf = tree.DecisionTreeClassifier().fit(dataX, dataY)\n",
        "\n",
        "array_important = []\n",
        "\n",
        "for i,j in enumerate(dataX):\n",
        "  score_f = modelClf.feature_importances_\n",
        "  print(j, '= ', score_f[i])\n",
        "\n"
      ],
      "execution_count": 18,
      "outputs": [
        {
          "output_type": "stream",
          "text": [
            "CEng =  0.012079985525738593\n",
            "Ctha =  0.0010053579208025147\n",
            "CNum =  0.42519580001750845\n",
            "CSym =  0.034044177307210814\n",
            "ฎ =  0.0\n",
            "พ =  2.5037128909932086e-06\n",
            "ฑ =  0.0\n",
            "ธ =  0.0007149203917660644\n",
            "ร =  0.0\n",
            "ณ =  0.0\n",
            "น =  0.00013228393694769924\n",
            "ย =  0.0005252162237330889\n",
            "ญ =  0.0\n",
            "บ =  0.0\n",
            "ฐ =  0.0\n",
            "ล =  0.0\n",
            "ฟ =  0.0\n",
            "ฤ =  0.0\n",
            "ห =  0.0\n",
            "ฆ =  0.0\n",
            "ก =  0.0\n",
            "ฏ =  0.0\n",
            "ด =  0.0\n",
            "ฌ =  0.0\n",
            "ษ =  0.0\n",
            "ส =  0.0\n",
            "ศ =  0.0\n",
            "ว =  0.0\n",
            "ซ =  0.0\n",
            "ง =  0.0005107499092218705\n",
            "ผ =  0.0\n",
            "ป =  0.0\n",
            "ฉ =  0.0\n",
            "อ =  0.0\n",
            "ฮ =  0.0\n",
            "ท =  0.006714963955639083\n",
            "ม =  0.0\n",
            "ฒ =  0.0\n",
            "ฬ =  0.0\n",
            "ฝ =  0.0\n",
            "ฦ =  0.0\n",
            "ภ =  0.0\n",
            "ถ =  0.0\n",
            "ค =  8.949441823101085e-06\n",
            "ต =  0.0\n",
            "จ =  9.406857738503047e-05\n",
            "ข =  0.0\n",
            "ช =  0.0\n",
            "q =  0.0\n",
            "w =  0.0\n",
            "e =  0.0\n",
            "r =  0.0\n",
            "t =  0.0\n",
            "y =  0.0\n",
            "u =  0.0\n",
            "i =  0.0\n",
            "o =  0.0\n",
            "p =  0.0\n",
            "a =  0.0\n",
            "s =  0.0\n",
            "d =  0.0\n",
            "f =  0.0\n",
            "g =  0.0\n",
            "h =  0.0\n",
            "j =  0.0\n",
            "k =  0.0\n",
            "l =  0.0\n",
            "z =  0.0\n",
            "x =  0.0\n",
            "c =  0.0\n",
            "v =  0.0\n",
            "b =  0.0\n",
            "n =  0.00118413835782388\n",
            "m =  0.0\n",
            "1 =  0.007106749152751195\n",
            "2 =  0.0022420221926339723\n",
            "3 =  0.0008942204483274577\n",
            "4 =  0.003288276719773378\n",
            "5 =  0.0007649602976989627\n",
            "6 =  0.002264835088833921\n",
            "7 =  0.0004535449266778261\n",
            "8 =  0.0004726855197339587\n",
            "9 =  0.0010671095692220511\n",
            "0 =  0.04047009638138834\n",
            "! =  0.0\n",
            "@ =  0.0\n",
            "# =  0.0\n",
            "$ =  0.0\n",
            "% =  0.005747340709970184\n",
            "^ =  0.0\n",
            "& =  0.0\n",
            "* =  0.0\n",
            "( =  0.0\n",
            ") =  0.0\n",
            "- =  0.002201057728657551\n",
            "_ =  0.0\n",
            "=' =  0.0\n",
            "+ =  0.0007413303741598705\n",
            "{ =  0.0\n",
            "} =  0.0\n",
            "[ =  0.0\n",
            "] =  0.0\n",
            "; =  0.0\n",
            ": =  0.24302680738688412\n",
            "< =  0.0\n",
            "> =  0.0\n",
            ". =  0.19017958262553597\n",
            "? =  0.0\n",
            "/ =  0.0\n",
            "฿ =  0.0\n",
            "blank =  0.0\n",
            "blankSpace =  0.0\n",
            "Bank_Kbank =  0.0013517809076205093\n",
            "Bank_krungsri =  0.001128422068205374\n",
            "level_4 =  0.0\n",
            "page_num_1 =  0.0\n",
            "block_num_1 =  0.0010097584412202465\n",
            "block_num_2 =  0.001119519383988501\n",
            "block_num_3 =  0.0019325563138388522\n",
            "block_num_4 =  0.0001701534561523343\n",
            "block_num_5 =  0.0\n",
            "block_num_6 =  0.0011743873957912416\n",
            "block_num_7 =  0.0005174684688798822\n",
            "block_num_8 =  0.00043597927308915656\n",
            "block_num_9 =  0.0005251271436408667\n",
            "block_num_10 =  0.00010491043773732953\n",
            "block_num_11 =  0.0005419987107165042\n",
            "block_num_12 =  0.0\n",
            "block_num_13 =  0.0\n",
            "block_num_14 =  0.0\n",
            "par_num_1 =  0.0036917192585284426\n",
            "par_num_2 =  0.0\n",
            "par_num_3 =  0.0\n",
            "par_num_4 =  0.0\n",
            "line_num_1 =  0.002081935375335455\n",
            "line_num_2 =  0.00047034288692515285\n",
            "line_num_3 =  0.0\n",
            "line_num_4 =  0.00012917357959864033\n",
            "line_num_5 =  0.00048103249799163366\n",
            "line_num_6 =  0.0\n",
            "line_num_7 =  0.0\n",
            "line_num_8 =  0.0\n"
          ],
          "name": "stdout"
        }
      ]
    },
    {
      "cell_type": "code",
      "metadata": {
        "colab": {
          "base_uri": "https://localhost:8080/"
        },
        "id": "T5o-RBrveJxZ",
        "outputId": "177dffc2-e329-4f83-8bbc-af902df6077f"
      },
      "source": [
        "X_train, X_test, y_train, y_test = train_test_split(dataX, dataY, test_size=0.2, random_state=42)\n",
        "\n",
        "parameters = {\n",
        "    'n_neighbors': [3,5,7,9,11,13,15,17,19,21,23,25,27,29,31,33,35,37,39,41,43], \n",
        "    'weights': ['uniform', 'distance'],\n",
        "    'algorithm': ['auto', 'ball_tree', 'kd_tree', 'brute']\n",
        "}\n",
        "\n",
        "KNN_Model = GridSearchCV(\n",
        "    KNeighborsClassifier(),\n",
        "    parameters,n_jobs=-1, cv=5).fit(X_train, y_train)\n",
        "print(KNN_Model.best_params_)\n",
        "print(KNN_Model.best_score_)\n",
        "\n"
      ],
      "execution_count": 19,
      "outputs": [
        {
          "output_type": "stream",
          "text": [
            "{'algorithm': 'brute', 'n_neighbors': 3, 'weights': 'uniform'}\n",
            "0.9739356201099169\n"
          ],
          "name": "stdout"
        },
        {
          "output_type": "stream",
          "text": [
            "/usr/local/lib/python3.7/dist-packages/sklearn/model_selection/_search.py:739: DataConversionWarning: A column-vector y was passed when a 1d array was expected. Please change the shape of y to (n_samples, ), for example using ravel().\n",
            "  self.best_estimator_.fit(X, y, **fit_params)\n"
          ],
          "name": "stderr"
        }
      ]
    },
    {
      "cell_type": "code",
      "metadata": {
        "colab": {
          "base_uri": "https://localhost:8080/"
        },
        "id": "4CHFz17teTbb",
        "outputId": "2316b399-78ec-462c-ab62-640798c835f2"
      },
      "source": [
        "y_pred = KNN_Model.predict(X_test)\n",
        "print(classification_report(y_test,y_pred))"
      ],
      "execution_count": 20,
      "outputs": [
        {
          "output_type": "stream",
          "text": [
            "              precision    recall  f1-score   support\n",
            "\n",
            "     Account       0.64      0.88      0.74         8\n",
            "      Amount       1.00      1.00      1.00       172\n",
            "        Name       0.62      0.56      0.59         9\n",
            "      NotUse       0.99      0.97      0.98       466\n",
            "     RefCode       0.96      0.99      0.97       194\n",
            "      Timing       0.99      1.00      1.00       226\n",
            "\n",
            "    accuracy                           0.98      1075\n",
            "   macro avg       0.87      0.90      0.88      1075\n",
            "weighted avg       0.98      0.98      0.98      1075\n",
            "\n"
          ],
          "name": "stdout"
        }
      ]
    },
    {
      "cell_type": "markdown",
      "metadata": {
        "id": "9mTQXag4jDz_"
      },
      "source": [
        "## 2.1 Using data with more count per-word. without BB and train only kbank.\n",
        "\n"
      ]
    },
    {
      "cell_type": "code",
      "metadata": {
        "colab": {
          "base_uri": "https://localhost:8080/"
        },
        "id": "1-MwK-JGeTu_",
        "outputId": "096a487b-ab5a-48a5-c830-8002195ccd3c"
      },
      "source": [
        "df = pd.read_csv('data_more_count.csv') \n",
        "df = df.drop(columns=['word','left','top','width','height'])\n",
        "\n",
        "df = pd.get_dummies(data= df, columns=['level','page_num','block_num','par_num','line_num'])\n",
        "\n",
        "df_test = df[df.Bank == 'krungsri'] \n",
        "df = df[df.Bank== \"Kbank\"] \n",
        "df = df.drop(columns=['Bank'])\n",
        "df_test = df_test.drop(columns=['Bank'])\n",
        "\n",
        "print(df)\n",
        "print('\\n')\n",
        "print(df_test)"
      ],
      "execution_count": 38,
      "outputs": [
        {
          "output_type": "stream",
          "text": [
            "      CEng  Ctha  CNum  CSym  ... line_num_5  line_num_6  line_num_7  line_num_8\n",
            "0        0    12     1     5  ...          0           0           0           0\n",
            "1        0    11     1     4  ...          0           0           0           0\n",
            "2        0    11     0     3  ...          0           0           0           0\n",
            "3        0    11     0     6  ...          0           0           0           0\n",
            "4        2    11     0     4  ...          0           0           0           0\n",
            "...    ...   ...   ...   ...  ...        ...         ...         ...         ...\n",
            "3732     0     3     0     1  ...          0           0           0           0\n",
            "3733     0     0     0     2  ...          0           0           0           0\n",
            "3734     2     0     0     0  ...          0           0           0           0\n",
            "3735     0     0     0     1  ...          0           0           0           0\n",
            "3736     0     0     0     1  ...          0           0           0           0\n",
            "\n",
            "[3737 rows x 141 columns]\n",
            "\n",
            "\n",
            "      CEng  Ctha  CNum  CSym  ... line_num_5  line_num_6  line_num_7  line_num_8\n",
            "3737     2     0     0     0  ...          0           0           0           0\n",
            "3738     2     0     0     0  ...          0           0           0           0\n",
            "3739     2     0     0     0  ...          0           0           0           0\n",
            "3740     2     0     0     0  ...          0           0           0           0\n",
            "3741     8     0     0     0  ...          0           0           0           0\n",
            "...    ...   ...   ...   ...  ...        ...         ...         ...         ...\n",
            "5367     4     0     9     0  ...          0           0           0           0\n",
            "5368     4     0     9     0  ...          0           0           0           0\n",
            "5369     4     0     9     0  ...          0           0           0           0\n",
            "5370     4     0     9     0  ...          0           0           0           0\n",
            "5371     4     0     9     0  ...          0           0           0           0\n",
            "\n",
            "[1635 rows x 141 columns]\n"
          ],
          "name": "stdout"
        }
      ]
    },
    {
      "cell_type": "code",
      "metadata": {
        "colab": {
          "base_uri": "https://localhost:8080/"
        },
        "id": "PEU9-IphjZ2k",
        "outputId": "16d576f9-ccdf-4c79-8f2a-96aaee63b761"
      },
      "source": [
        "\n",
        "X_train = df.drop(columns= ['label'])\n",
        "y_train = df[['label']]\n",
        "\n",
        "\n",
        "X_test = df_test.drop(columns= ['label'])\n",
        "y_test = df_test[['label']]\n",
        "\n",
        "\n",
        "parameters = {\n",
        "    'n_neighbors': [3,5,7,9,11,13,15,17,19,21,23,25,27,29,31,33,35,37,39,41,43], \n",
        "    'weights': ['uniform', 'distance'],\n",
        "    'algorithm': ['auto', 'ball_tree', 'kd_tree', 'brute']\n",
        "}\n",
        "\n",
        "KNN_Model = GridSearchCV(\n",
        "    KNeighborsClassifier(),\n",
        "    parameters,n_jobs=-1, cv=5).fit(X_train, y_train)\n",
        "print(KNN_Model.best_params_)\n",
        "print(KNN_Model.best_score_)"
      ],
      "execution_count": 39,
      "outputs": [
        {
          "output_type": "stream",
          "text": [
            "{'algorithm': 'auto', 'n_neighbors': 3, 'weights': 'distance'}\n",
            "0.9810027990750882\n"
          ],
          "name": "stdout"
        },
        {
          "output_type": "stream",
          "text": [
            "/usr/local/lib/python3.7/dist-packages/sklearn/model_selection/_search.py:739: DataConversionWarning: A column-vector y was passed when a 1d array was expected. Please change the shape of y to (n_samples, ), for example using ravel().\n",
            "  self.best_estimator_.fit(X, y, **fit_params)\n"
          ],
          "name": "stderr"
        }
      ]
    },
    {
      "cell_type": "code",
      "metadata": {
        "colab": {
          "base_uri": "https://localhost:8080/"
        },
        "id": "MYwR-dVUjjQz",
        "outputId": "d5e86bef-22db-410a-e248-c943e5c36927"
      },
      "source": [
        "y_pred = KNN_Model.predict(X_test)\n",
        "print(classification_report(y_test,y_pred))"
      ],
      "execution_count": 40,
      "outputs": [
        {
          "output_type": "stream",
          "text": [
            "              precision    recall  f1-score   support\n",
            "\n",
            "     Account       0.00      0.00      0.00        39\n",
            "      Amount       0.94      0.43      0.59       290\n",
            "        Name       0.00      0.00      0.00        25\n",
            "      NotUse       0.55      0.94      0.70       635\n",
            "     RefCode       0.00      0.00      0.00       262\n",
            "      Timing       0.98      0.99      0.99       384\n",
            "\n",
            "    accuracy                           0.68      1635\n",
            "   macro avg       0.41      0.39      0.38      1635\n",
            "weighted avg       0.61      0.68      0.61      1635\n",
            "\n"
          ],
          "name": "stdout"
        }
      ]
    }
  ]
}